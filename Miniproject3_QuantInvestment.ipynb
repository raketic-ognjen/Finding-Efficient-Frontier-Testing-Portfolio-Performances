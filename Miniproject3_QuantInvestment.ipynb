{
  "nbformat": 4,
  "nbformat_minor": 0,
  "metadata": {
    "colab": {
      "provenance": [],
      "authorship_tag": "ABX9TyMm/+qm3I9+csunUvfQ6Ey0",
      "include_colab_link": true
    },
    "kernelspec": {
      "name": "python3",
      "display_name": "Python 3"
    },
    "language_info": {
      "name": "python"
    }
  },
  "cells": [
    {
      "cell_type": "markdown",
      "metadata": {
        "id": "view-in-github",
        "colab_type": "text"
      },
      "source": [
        "<a href=\"https://colab.research.google.com/github/raketic-ognjen/Finding-Efficient-Frontier-Testing-Portfolio-Performances/blob/main/Miniproject3_QuantInvestment.ipynb\" target=\"_parent\"><img src=\"https://colab.research.google.com/assets/colab-badge.svg\" alt=\"Open In Colab\"/></a>"
      ]
    },
    {
      "cell_type": "markdown",
      "source": [
        "<font color='DarkViolet ' style=\"font-size:25px\"><b>Problem 1 - Efficient frontier</b></font>"
      ],
      "metadata": {
        "id": "b_6E2vwCrnmR"
      }
    },
    {
      "cell_type": "markdown",
      "source": [
        "a) To prepare yourselves for the upcoming tasks you need to perform two operations:\n",
        "1. **Upload and import** data about 15 chosen stocks' returns in 2007 given in the **third sheet** of the data set 'optimization.xlsx' (you can find it in the materials for this lecture). **Save** the whole data set as a **variable** *ret15*.\n",
        "2. After that **construct two smaller data sets**. The first one contains **returns on only the first five stocks** and the second one second one contains **returns on the first 10 stocks** from your data set. **Save** them as **variables** *ret5* and *ret10*, respectively."
      ],
      "metadata": {
        "id": "QQCPsRvbro_8"
      }
    },
    {
      "cell_type": "code",
      "execution_count": 1,
      "metadata": {
        "colab": {
          "base_uri": "https://localhost:8080/",
          "height": 90
        },
        "id": "bhnmb_G4rhtx",
        "outputId": "cca23aaa-0092-411f-e182-06d6615f40ba"
      },
      "outputs": [
        {
          "output_type": "display_data",
          "data": {
            "text/plain": [
              "<IPython.core.display.HTML object>"
            ],
            "text/html": [
              "\n",
              "     <input type=\"file\" id=\"files-c3110208-3269-4a79-a380-45c41b7895b0\" name=\"files[]\" multiple disabled\n",
              "        style=\"border:none\" />\n",
              "     <output id=\"result-c3110208-3269-4a79-a380-45c41b7895b0\">\n",
              "      Upload widget is only available when the cell has been executed in the\n",
              "      current browser session. Please rerun this cell to enable.\n",
              "      </output>\n",
              "      <script>// Copyright 2017 Google LLC\n",
              "//\n",
              "// Licensed under the Apache License, Version 2.0 (the \"License\");\n",
              "// you may not use this file except in compliance with the License.\n",
              "// You may obtain a copy of the License at\n",
              "//\n",
              "//      http://www.apache.org/licenses/LICENSE-2.0\n",
              "//\n",
              "// Unless required by applicable law or agreed to in writing, software\n",
              "// distributed under the License is distributed on an \"AS IS\" BASIS,\n",
              "// WITHOUT WARRANTIES OR CONDITIONS OF ANY KIND, either express or implied.\n",
              "// See the License for the specific language governing permissions and\n",
              "// limitations under the License.\n",
              "\n",
              "/**\n",
              " * @fileoverview Helpers for google.colab Python module.\n",
              " */\n",
              "(function(scope) {\n",
              "function span(text, styleAttributes = {}) {\n",
              "  const element = document.createElement('span');\n",
              "  element.textContent = text;\n",
              "  for (const key of Object.keys(styleAttributes)) {\n",
              "    element.style[key] = styleAttributes[key];\n",
              "  }\n",
              "  return element;\n",
              "}\n",
              "\n",
              "// Max number of bytes which will be uploaded at a time.\n",
              "const MAX_PAYLOAD_SIZE = 100 * 1024;\n",
              "\n",
              "function _uploadFiles(inputId, outputId) {\n",
              "  const steps = uploadFilesStep(inputId, outputId);\n",
              "  const outputElement = document.getElementById(outputId);\n",
              "  // Cache steps on the outputElement to make it available for the next call\n",
              "  // to uploadFilesContinue from Python.\n",
              "  outputElement.steps = steps;\n",
              "\n",
              "  return _uploadFilesContinue(outputId);\n",
              "}\n",
              "\n",
              "// This is roughly an async generator (not supported in the browser yet),\n",
              "// where there are multiple asynchronous steps and the Python side is going\n",
              "// to poll for completion of each step.\n",
              "// This uses a Promise to block the python side on completion of each step,\n",
              "// then passes the result of the previous step as the input to the next step.\n",
              "function _uploadFilesContinue(outputId) {\n",
              "  const outputElement = document.getElementById(outputId);\n",
              "  const steps = outputElement.steps;\n",
              "\n",
              "  const next = steps.next(outputElement.lastPromiseValue);\n",
              "  return Promise.resolve(next.value.promise).then((value) => {\n",
              "    // Cache the last promise value to make it available to the next\n",
              "    // step of the generator.\n",
              "    outputElement.lastPromiseValue = value;\n",
              "    return next.value.response;\n",
              "  });\n",
              "}\n",
              "\n",
              "/**\n",
              " * Generator function which is called between each async step of the upload\n",
              " * process.\n",
              " * @param {string} inputId Element ID of the input file picker element.\n",
              " * @param {string} outputId Element ID of the output display.\n",
              " * @return {!Iterable<!Object>} Iterable of next steps.\n",
              " */\n",
              "function* uploadFilesStep(inputId, outputId) {\n",
              "  const inputElement = document.getElementById(inputId);\n",
              "  inputElement.disabled = false;\n",
              "\n",
              "  const outputElement = document.getElementById(outputId);\n",
              "  outputElement.innerHTML = '';\n",
              "\n",
              "  const pickedPromise = new Promise((resolve) => {\n",
              "    inputElement.addEventListener('change', (e) => {\n",
              "      resolve(e.target.files);\n",
              "    });\n",
              "  });\n",
              "\n",
              "  const cancel = document.createElement('button');\n",
              "  inputElement.parentElement.appendChild(cancel);\n",
              "  cancel.textContent = 'Cancel upload';\n",
              "  const cancelPromise = new Promise((resolve) => {\n",
              "    cancel.onclick = () => {\n",
              "      resolve(null);\n",
              "    };\n",
              "  });\n",
              "\n",
              "  // Wait for the user to pick the files.\n",
              "  const files = yield {\n",
              "    promise: Promise.race([pickedPromise, cancelPromise]),\n",
              "    response: {\n",
              "      action: 'starting',\n",
              "    }\n",
              "  };\n",
              "\n",
              "  cancel.remove();\n",
              "\n",
              "  // Disable the input element since further picks are not allowed.\n",
              "  inputElement.disabled = true;\n",
              "\n",
              "  if (!files) {\n",
              "    return {\n",
              "      response: {\n",
              "        action: 'complete',\n",
              "      }\n",
              "    };\n",
              "  }\n",
              "\n",
              "  for (const file of files) {\n",
              "    const li = document.createElement('li');\n",
              "    li.append(span(file.name, {fontWeight: 'bold'}));\n",
              "    li.append(span(\n",
              "        `(${file.type || 'n/a'}) - ${file.size} bytes, ` +\n",
              "        `last modified: ${\n",
              "            file.lastModifiedDate ? file.lastModifiedDate.toLocaleDateString() :\n",
              "                                    'n/a'} - `));\n",
              "    const percent = span('0% done');\n",
              "    li.appendChild(percent);\n",
              "\n",
              "    outputElement.appendChild(li);\n",
              "\n",
              "    const fileDataPromise = new Promise((resolve) => {\n",
              "      const reader = new FileReader();\n",
              "      reader.onload = (e) => {\n",
              "        resolve(e.target.result);\n",
              "      };\n",
              "      reader.readAsArrayBuffer(file);\n",
              "    });\n",
              "    // Wait for the data to be ready.\n",
              "    let fileData = yield {\n",
              "      promise: fileDataPromise,\n",
              "      response: {\n",
              "        action: 'continue',\n",
              "      }\n",
              "    };\n",
              "\n",
              "    // Use a chunked sending to avoid message size limits. See b/62115660.\n",
              "    let position = 0;\n",
              "    do {\n",
              "      const length = Math.min(fileData.byteLength - position, MAX_PAYLOAD_SIZE);\n",
              "      const chunk = new Uint8Array(fileData, position, length);\n",
              "      position += length;\n",
              "\n",
              "      const base64 = btoa(String.fromCharCode.apply(null, chunk));\n",
              "      yield {\n",
              "        response: {\n",
              "          action: 'append',\n",
              "          file: file.name,\n",
              "          data: base64,\n",
              "        },\n",
              "      };\n",
              "\n",
              "      let percentDone = fileData.byteLength === 0 ?\n",
              "          100 :\n",
              "          Math.round((position / fileData.byteLength) * 100);\n",
              "      percent.textContent = `${percentDone}% done`;\n",
              "\n",
              "    } while (position < fileData.byteLength);\n",
              "  }\n",
              "\n",
              "  // All done.\n",
              "  yield {\n",
              "    response: {\n",
              "      action: 'complete',\n",
              "    }\n",
              "  };\n",
              "}\n",
              "\n",
              "scope.google = scope.google || {};\n",
              "scope.google.colab = scope.google.colab || {};\n",
              "scope.google.colab._files = {\n",
              "  _uploadFiles,\n",
              "  _uploadFilesContinue,\n",
              "};\n",
              "})(self);\n",
              "</script> "
            ]
          },
          "metadata": {}
        },
        {
          "output_type": "stream",
          "name": "stdout",
          "text": [
            "Saving optimization.xlsx to optimization.xlsx\n"
          ]
        }
      ],
      "source": [
        "#Importing excel file\n",
        "from google.colab import files\n",
        "uploaded0 = files.upload()"
      ]
    },
    {
      "cell_type": "code",
      "source": [
        "#importing files quantitative formulas\n",
        "from google.colab import files\n",
        "uploaded1 = files.upload()"
      ],
      "metadata": {
        "colab": {
          "base_uri": "https://localhost:8080/",
          "height": 73
        },
        "id": "5KpIqrO6tS7K",
        "outputId": "dec51a36-98fd-4b4d-fc82-42733805c7c7"
      },
      "execution_count": 2,
      "outputs": [
        {
          "output_type": "display_data",
          "data": {
            "text/plain": [
              "<IPython.core.display.HTML object>"
            ],
            "text/html": [
              "\n",
              "     <input type=\"file\" id=\"files-537ea076-c1f6-43e5-a97f-39fc578463d1\" name=\"files[]\" multiple disabled\n",
              "        style=\"border:none\" />\n",
              "     <output id=\"result-537ea076-c1f6-43e5-a97f-39fc578463d1\">\n",
              "      Upload widget is only available when the cell has been executed in the\n",
              "      current browser session. Please rerun this cell to enable.\n",
              "      </output>\n",
              "      <script>// Copyright 2017 Google LLC\n",
              "//\n",
              "// Licensed under the Apache License, Version 2.0 (the \"License\");\n",
              "// you may not use this file except in compliance with the License.\n",
              "// You may obtain a copy of the License at\n",
              "//\n",
              "//      http://www.apache.org/licenses/LICENSE-2.0\n",
              "//\n",
              "// Unless required by applicable law or agreed to in writing, software\n",
              "// distributed under the License is distributed on an \"AS IS\" BASIS,\n",
              "// WITHOUT WARRANTIES OR CONDITIONS OF ANY KIND, either express or implied.\n",
              "// See the License for the specific language governing permissions and\n",
              "// limitations under the License.\n",
              "\n",
              "/**\n",
              " * @fileoverview Helpers for google.colab Python module.\n",
              " */\n",
              "(function(scope) {\n",
              "function span(text, styleAttributes = {}) {\n",
              "  const element = document.createElement('span');\n",
              "  element.textContent = text;\n",
              "  for (const key of Object.keys(styleAttributes)) {\n",
              "    element.style[key] = styleAttributes[key];\n",
              "  }\n",
              "  return element;\n",
              "}\n",
              "\n",
              "// Max number of bytes which will be uploaded at a time.\n",
              "const MAX_PAYLOAD_SIZE = 100 * 1024;\n",
              "\n",
              "function _uploadFiles(inputId, outputId) {\n",
              "  const steps = uploadFilesStep(inputId, outputId);\n",
              "  const outputElement = document.getElementById(outputId);\n",
              "  // Cache steps on the outputElement to make it available for the next call\n",
              "  // to uploadFilesContinue from Python.\n",
              "  outputElement.steps = steps;\n",
              "\n",
              "  return _uploadFilesContinue(outputId);\n",
              "}\n",
              "\n",
              "// This is roughly an async generator (not supported in the browser yet),\n",
              "// where there are multiple asynchronous steps and the Python side is going\n",
              "// to poll for completion of each step.\n",
              "// This uses a Promise to block the python side on completion of each step,\n",
              "// then passes the result of the previous step as the input to the next step.\n",
              "function _uploadFilesContinue(outputId) {\n",
              "  const outputElement = document.getElementById(outputId);\n",
              "  const steps = outputElement.steps;\n",
              "\n",
              "  const next = steps.next(outputElement.lastPromiseValue);\n",
              "  return Promise.resolve(next.value.promise).then((value) => {\n",
              "    // Cache the last promise value to make it available to the next\n",
              "    // step of the generator.\n",
              "    outputElement.lastPromiseValue = value;\n",
              "    return next.value.response;\n",
              "  });\n",
              "}\n",
              "\n",
              "/**\n",
              " * Generator function which is called between each async step of the upload\n",
              " * process.\n",
              " * @param {string} inputId Element ID of the input file picker element.\n",
              " * @param {string} outputId Element ID of the output display.\n",
              " * @return {!Iterable<!Object>} Iterable of next steps.\n",
              " */\n",
              "function* uploadFilesStep(inputId, outputId) {\n",
              "  const inputElement = document.getElementById(inputId);\n",
              "  inputElement.disabled = false;\n",
              "\n",
              "  const outputElement = document.getElementById(outputId);\n",
              "  outputElement.innerHTML = '';\n",
              "\n",
              "  const pickedPromise = new Promise((resolve) => {\n",
              "    inputElement.addEventListener('change', (e) => {\n",
              "      resolve(e.target.files);\n",
              "    });\n",
              "  });\n",
              "\n",
              "  const cancel = document.createElement('button');\n",
              "  inputElement.parentElement.appendChild(cancel);\n",
              "  cancel.textContent = 'Cancel upload';\n",
              "  const cancelPromise = new Promise((resolve) => {\n",
              "    cancel.onclick = () => {\n",
              "      resolve(null);\n",
              "    };\n",
              "  });\n",
              "\n",
              "  // Wait for the user to pick the files.\n",
              "  const files = yield {\n",
              "    promise: Promise.race([pickedPromise, cancelPromise]),\n",
              "    response: {\n",
              "      action: 'starting',\n",
              "    }\n",
              "  };\n",
              "\n",
              "  cancel.remove();\n",
              "\n",
              "  // Disable the input element since further picks are not allowed.\n",
              "  inputElement.disabled = true;\n",
              "\n",
              "  if (!files) {\n",
              "    return {\n",
              "      response: {\n",
              "        action: 'complete',\n",
              "      }\n",
              "    };\n",
              "  }\n",
              "\n",
              "  for (const file of files) {\n",
              "    const li = document.createElement('li');\n",
              "    li.append(span(file.name, {fontWeight: 'bold'}));\n",
              "    li.append(span(\n",
              "        `(${file.type || 'n/a'}) - ${file.size} bytes, ` +\n",
              "        `last modified: ${\n",
              "            file.lastModifiedDate ? file.lastModifiedDate.toLocaleDateString() :\n",
              "                                    'n/a'} - `));\n",
              "    const percent = span('0% done');\n",
              "    li.appendChild(percent);\n",
              "\n",
              "    outputElement.appendChild(li);\n",
              "\n",
              "    const fileDataPromise = new Promise((resolve) => {\n",
              "      const reader = new FileReader();\n",
              "      reader.onload = (e) => {\n",
              "        resolve(e.target.result);\n",
              "      };\n",
              "      reader.readAsArrayBuffer(file);\n",
              "    });\n",
              "    // Wait for the data to be ready.\n",
              "    let fileData = yield {\n",
              "      promise: fileDataPromise,\n",
              "      response: {\n",
              "        action: 'continue',\n",
              "      }\n",
              "    };\n",
              "\n",
              "    // Use a chunked sending to avoid message size limits. See b/62115660.\n",
              "    let position = 0;\n",
              "    do {\n",
              "      const length = Math.min(fileData.byteLength - position, MAX_PAYLOAD_SIZE);\n",
              "      const chunk = new Uint8Array(fileData, position, length);\n",
              "      position += length;\n",
              "\n",
              "      const base64 = btoa(String.fromCharCode.apply(null, chunk));\n",
              "      yield {\n",
              "        response: {\n",
              "          action: 'append',\n",
              "          file: file.name,\n",
              "          data: base64,\n",
              "        },\n",
              "      };\n",
              "\n",
              "      let percentDone = fileData.byteLength === 0 ?\n",
              "          100 :\n",
              "          Math.round((position / fileData.byteLength) * 100);\n",
              "      percent.textContent = `${percentDone}% done`;\n",
              "\n",
              "    } while (position < fileData.byteLength);\n",
              "  }\n",
              "\n",
              "  // All done.\n",
              "  yield {\n",
              "    response: {\n",
              "      action: 'complete',\n",
              "    }\n",
              "  };\n",
              "}\n",
              "\n",
              "scope.google = scope.google || {};\n",
              "scope.google.colab = scope.google.colab || {};\n",
              "scope.google.colab._files = {\n",
              "  _uploadFiles,\n",
              "  _uploadFilesContinue,\n",
              "};\n",
              "})(self);\n",
              "</script> "
            ]
          },
          "metadata": {}
        },
        {
          "output_type": "stream",
          "name": "stdout",
          "text": [
            "Saving kvantitativne_formule.py to kvantitativne_formule.py\n"
          ]
        }
      ]
    },
    {
      "cell_type": "code",
      "source": [
        "#importing pandas\n",
        "import pandas as pd\n",
        "#Importing my own library\n",
        "import kvantitativne_formule as qt"
      ],
      "metadata": {
        "id": "PTbKu3mOta1x"
      },
      "execution_count": 7,
      "outputs": []
    },
    {
      "cell_type": "code",
      "source": [
        "ret15 = pd.read_excel('optimization.xlsx',sheet_name=2,index_col=0)\n",
        "ret10 = ret15.iloc[:,:10]\n",
        "ret5 = ret15.iloc[:,:5]\n",
        "ret15.head(),ret10.head(),ret5.head()"
      ],
      "metadata": {
        "colab": {
          "base_uri": "https://localhost:8080/"
        },
        "id": "qYgGlK_ptdWA",
        "outputId": "2dbe521b-c55f-4e85-8294-616a09981db2"
      },
      "execution_count": 5,
      "outputs": [
        {
          "output_type": "execute_result",
          "data": {
            "text/plain": [
              "(               AAPL      CSCO      INTC      MSFT       AXP        BA  \\\n",
              " Date                                                                    \n",
              " 2007-1-4   0.022196  0.026325  0.040295 -0.001675 -0.007290  0.004037   \n",
              " 2007-1-5  -0.007121  0.000351 -0.003307 -0.005703 -0.013184 -0.004244   \n",
              " 2007-1-8   0.004938  0.005620 -0.004265  0.009784  0.009471 -0.002356   \n",
              " 2007-1-9   0.083070 -0.005589  0.000952  0.001002 -0.006366 -0.010569   \n",
              " 2007-1-10  0.047856  0.007376  0.023300 -0.010013 -0.000674  0.014432   \n",
              " \n",
              "                 CAT       CVX        DD       DIS        GE        GS  \\\n",
              " Date                                                                    \n",
              " 2007-1-4  -0.002616 -0.009722 -0.006933  0.007895 -0.005794 -0.009316   \n",
              " 2007-1-5  -0.012787  0.003842 -0.013347 -0.008123 -0.005033  0.001006   \n",
              " 2007-1-8   0.001162  0.012757  0.000416  0.009067 -0.000266  0.023512   \n",
              " 2007-1-9   0.005474 -0.011477  0.006449 -0.001449  0.000000  0.001718   \n",
              " 2007-1-10 -0.004949 -0.017273 -0.002480  0.001161  0.000266  0.019747   \n",
              " \n",
              "                  HD       IBM       JNJ  \n",
              " Date                                     \n",
              " 2007-1-4  -0.012174  0.010692  0.012500  \n",
              " 2007-1-5  -0.019226 -0.009053 -0.009073  \n",
              " 2007-1-8  -0.007540  0.015192 -0.001651  \n",
              " 2007-1-9  -0.004305  0.011830 -0.003759  \n",
              " 2007-1-10  0.011699 -0.011792 -0.001660  ,\n",
              "                AAPL      CSCO      INTC      MSFT       AXP        BA  \\\n",
              " Date                                                                    \n",
              " 2007-1-4   0.022196  0.026325  0.040295 -0.001675 -0.007290  0.004037   \n",
              " 2007-1-5  -0.007121  0.000351 -0.003307 -0.005703 -0.013184 -0.004244   \n",
              " 2007-1-8   0.004938  0.005620 -0.004265  0.009784  0.009471 -0.002356   \n",
              " 2007-1-9   0.083070 -0.005589  0.000952  0.001002 -0.006366 -0.010569   \n",
              " 2007-1-10  0.047856  0.007376  0.023300 -0.010013 -0.000674  0.014432   \n",
              " \n",
              "                 CAT       CVX        DD       DIS  \n",
              " Date                                               \n",
              " 2007-1-4  -0.002616 -0.009722 -0.006933  0.007895  \n",
              " 2007-1-5  -0.012787  0.003842 -0.013347 -0.008123  \n",
              " 2007-1-8   0.001162  0.012757  0.000416  0.009067  \n",
              " 2007-1-9   0.005474 -0.011477  0.006449 -0.001449  \n",
              " 2007-1-10 -0.004949 -0.017273 -0.002480  0.001161  ,\n",
              "                AAPL      CSCO      INTC      MSFT       AXP\n",
              " Date                                                       \n",
              " 2007-1-4   0.022196  0.026325  0.040295 -0.001675 -0.007290\n",
              " 2007-1-5  -0.007121  0.000351 -0.003307 -0.005703 -0.013184\n",
              " 2007-1-8   0.004938  0.005620 -0.004265  0.009784  0.009471\n",
              " 2007-1-9   0.083070 -0.005589  0.000952  0.001002 -0.006366\n",
              " 2007-1-10  0.047856  0.007376  0.023300 -0.010013 -0.000674)"
            ]
          },
          "metadata": {},
          "execution_count": 5
        }
      ]
    },
    {
      "cell_type": "markdown",
      "source": [
        "b) Construct the **portfolio possibility curve** (the full set, i.e. portfolios above and below MVP) if your **opportunity set** consists of stocks in *ret5*.  "
      ],
      "metadata": {
        "id": "wjfyreiYrqd8"
      }
    },
    {
      "cell_type": "code",
      "source": [
        "#Graph and calculation of Efficient Frontier\n",
        "fig = qt.EF(ret5,[0,1.2],'full')\n",
        "\n",
        "#Showing the data\n",
        "fig.show()"
      ],
      "metadata": {
        "colab": {
          "base_uri": "https://localhost:8080/",
          "height": 542
        },
        "id": "yfW-fNZ4rrbk",
        "outputId": "a5c39bae-42b1-4418-c452-22605aefbaac"
      },
      "execution_count": 8,
      "outputs": [
        {
          "output_type": "display_data",
          "data": {
            "text/html": [
              "<html>\n",
              "<head><meta charset=\"utf-8\" /></head>\n",
              "<body>\n",
              "    <div>            <script src=\"https://cdnjs.cloudflare.com/ajax/libs/mathjax/2.7.5/MathJax.js?config=TeX-AMS-MML_SVG\"></script><script type=\"text/javascript\">if (window.MathJax && window.MathJax.Hub && window.MathJax.Hub.Config) {window.MathJax.Hub.Config({SVG: {font: \"STIX-Web\"}});}</script>                <script type=\"text/javascript\">window.PlotlyConfig = {MathJaxConfig: 'local'};</script>\n",
              "        <script charset=\"utf-8\" src=\"https://cdn.plot.ly/plotly-2.24.1.min.js\"></script>                <div id=\"4d8dcd0e-43a1-4806-99d3-a17c0bc573a4\" class=\"plotly-graph-div\" style=\"height:525px; width:100%;\"></div>            <script type=\"text/javascript\">                                    window.PLOTLYENV=window.PLOTLYENV || {};                                    if (document.getElementById(\"4d8dcd0e-43a1-4806-99d3-a17c0bc573a4\")) {                    Plotly.newPlot(                        \"4d8dcd0e-43a1-4806-99d3-a17c0bc573a4\",                        [{\"fill\":\"tozeroy\",\"fillcolor\":\"Pink\",\"line\":{\"color\":\"Blue\",\"dash\":\"dash\"},\"x\":[0.2148043169399574,0.21377905602109776,0.21280125209461248,0.2118715622118678,0.2109906223855859,0.2101590456625377,0.20937742020312272,0.20864630737863682,0.2079662399301204,0.2073377201422166,0.20676121810406034,0.2062371700445271,0.20576597673875976,0.2053480020420592,0.20498357152127758,0.20467297121530056,0.20441644653424598,0.20421420131439633,0.20406639700809295,0.2039731520694254,0.20393454147441376,0.2039505964454649,0.20402130431632504,0.2041466085076236,0.2043264083890938,0.20456055831716358,0.2048488652197471,0.2051911046594811,0.20558700121959975,0.20603688690036032,0.2065385134280555,0.20709340346179642,0.20770050169168605,0.2083593486119969,0.20906945324587023,0.20983029440181122,0.21064132193803228,0.21150195834603605,0.21241160055277644,0.21336962173815321,0.21437537330775136,0.21542818674089656,0.21652737555691567,0.21767223720751275,0.2188620549612141,0.22009609972823208,0.22137363188996176,0.22269390303352649,0.22405615762154985,0.22545963464514668,0.2269035692066589,0.22838719393026954,0.2299097404589234,0.231470440737652,0.23306852831741146,0.2347032394872706,0.23637381440406463,0.23807949811107224,0.2398195414915925,0.24159320214398586,0.24339974516664922,0.24523844388097327,0.2471085804406814,0.24900944658556792,0.250940343979172,0.25290058473694144,0.2548894918254342,0.25690639962168416,0.25895065365049763,0.2610216115226712,0.26311864268219826,0.2652411286950349,0.2673884633804766,0.26956005296376156,0.27175531586995605,0.27397368326423555,0.27621459817550303,0.27847751647322655,0.2807619060301653,0.2830672471362087,0.2853930320059466,0.28773876486076827,0.2901039618658932,0.2924881508181845,0.29489087103349215,0.2973116732618906,0.29975011934522816,0.30220578223048133,0.3046782458061705,0.30716710420170795,0.3096719620631818,0.31219243428668514,0.3147281459110909,0.31727873127586054,0.3198438348064366,0.3224231099465087,0.32501621927973606,0.3276228341375728,0.3302426350734425,0.33287531033960727,0.33552055729944036,0.3381780805296551,0.34084759335577447,0.34352881581866346,0.34622147631863454,0.3489253097038064,0.35164005824447975,0.3543654712191254,0.35710130452714045,0.3598473202868657,0.36260328716493806,0.36536898001509455,0.3681441798502529,0.3709286732870953,0.3737222524513496,0.37652471488457784,0.3793358638654971,0.38215550785875085,0.38498346027370656,0.3878195386704577,0.39066356716288325],\"y\":[0.0,0.01,0.02,0.03,0.04,0.05,0.06,0.07,0.08,0.09,0.1,0.11,0.12,0.13,0.14,0.15,0.16,0.17,0.18,0.19,0.2,0.21,0.22,0.23,0.24,0.25,0.26,0.27,0.28,0.29,0.3,0.31,0.32,0.33,0.34,0.35000000000000003,0.36,0.37,0.38,0.39,0.4,0.41000000000000003,0.42,0.43,0.44,0.45,0.46,0.47000000000000003,0.48,0.49,0.5,0.51,0.52,0.53,0.54,0.55,0.56,0.5700000000000001,0.58,0.59,0.6,0.61,0.62,0.63,0.64,0.65,0.66,0.67,0.68,0.6900000000000001,0.7000000000000001,0.71,0.72,0.73,0.74,0.75,0.76,0.77,0.78,0.79,0.8,0.81,0.8200000000000001,0.8300000000000001,0.84,0.85,0.86,0.87,0.88,0.89,0.9,0.91,0.92,0.93,0.9400000000000001,0.9500000000000001,0.96,0.97,0.98,0.99,1.0,1.01,1.02,1.03,1.04,1.05,1.06,1.07,1.08,1.09,1.1,1.11,1.12,1.1300000000000001,1.1400000000000001,1.1500000000000001,1.16,1.17,1.18,1.19,1.2],\"type\":\"scatter\"},{\"line\":{\"color\":\"Blue\",\"width\":3},\"x\":[0.2039505964454649,0.20402130431632504,0.2041466085076236,0.2043264083890938,0.20456055831716358,0.2048488652197471,0.2051911046594811,0.20558700121959975,0.20603688690036032,0.2065385134280555,0.20709340346179642,0.20770050169168605,0.2083593486119969,0.20906945324587023,0.20983029440181122,0.21064132193803228,0.21150195834603605,0.21241160055277644,0.21336962173815321,0.21437537330775136,0.21542818674089656,0.21652737555691567,0.21767223720751275,0.2188620549612141,0.22009609972823208,0.22137363188996176,0.22269390303352649,0.22405615762154985,0.22545963464514668,0.2269035692066589,0.22838719393026954,0.2299097404589234,0.231470440737652,0.23306852831741146,0.2347032394872706,0.23637381440406463,0.23807949811107224,0.2398195414915925,0.24159320214398586,0.24339974516664922,0.24523844388097327,0.2471085804406814,0.24900944658556792,0.250940343979172,0.25290058473694144,0.2548894918254342,0.25690639962168416,0.25895065365049763,0.2610216115226712,0.26311864268219826,0.2652411286950349,0.2673884633804766,0.26956005296376156,0.27175531586995605,0.27397368326423555,0.27621459817550303,0.27847751647322655,0.2807619060301653,0.2830672471362087,0.2853930320059466,0.28773876486076827,0.2901039618658932,0.2924881508181845,0.29489087103349215,0.2973116732618906,0.29975011934522816,0.30220578223048133,0.3046782458061705,0.30716710420170795,0.3096719620631818,0.31219243428668514,0.3147281459110909,0.31727873127586054,0.3198438348064366,0.3224231099465087,0.32501621927973606,0.3276228341375728,0.3302426350734425,0.33287531033960727,0.33552055729944036,0.3381780805296551,0.34084759335577447,0.34352881581866346,0.34622147631863454,0.3489253097038064,0.35164005824447975,0.3543654712191254,0.35710130452714045,0.3598473202868657,0.36260328716493806,0.36536898001509455,0.3681441798502529,0.3709286732870953,0.3737222524513496,0.37652471488457784,0.3793358638654971,0.38215550785875085,0.38498346027370656,0.3878195386704577,0.39066356716288325],\"y\":[0.21,0.22,0.23,0.24,0.25,0.26,0.27,0.28,0.29,0.3,0.31,0.32,0.33,0.34,0.35000000000000003,0.36,0.37,0.38,0.39,0.4,0.41000000000000003,0.42,0.43,0.44,0.45,0.46,0.47000000000000003,0.48,0.49,0.5,0.51,0.52,0.53,0.54,0.55,0.56,0.5700000000000001,0.58,0.59,0.6,0.61,0.62,0.63,0.64,0.65,0.66,0.67,0.68,0.6900000000000001,0.7000000000000001,0.71,0.72,0.73,0.74,0.75,0.76,0.77,0.78,0.79,0.8,0.81,0.8200000000000001,0.8300000000000001,0.84,0.85,0.86,0.87,0.88,0.89,0.9,0.91,0.92,0.93,0.9400000000000001,0.9500000000000001,0.96,0.97,0.98,0.99,1.0,1.01,1.02,1.03,1.04,1.05,1.06,1.07,1.08,1.09,1.1,1.11,1.12,1.1300000000000001,1.1400000000000001,1.1500000000000001,1.16,1.17,1.18,1.19,1.2],\"type\":\"scatter\"},{\"marker\":{\"color\":\"Red\",\"line\":{\"color\":\"Black\",\"width\":2},\"size\":10},\"x\":[0.20393408773316402],\"y\":[0.20208994416189408],\"type\":\"scatter\"}],                        {\"template\":{\"data\":{\"histogram2dcontour\":[{\"type\":\"histogram2dcontour\",\"colorbar\":{\"outlinewidth\":0,\"ticks\":\"\"},\"colorscale\":[[0.0,\"#0d0887\"],[0.1111111111111111,\"#46039f\"],[0.2222222222222222,\"#7201a8\"],[0.3333333333333333,\"#9c179e\"],[0.4444444444444444,\"#bd3786\"],[0.5555555555555556,\"#d8576b\"],[0.6666666666666666,\"#ed7953\"],[0.7777777777777778,\"#fb9f3a\"],[0.8888888888888888,\"#fdca26\"],[1.0,\"#f0f921\"]]}],\"choropleth\":[{\"type\":\"choropleth\",\"colorbar\":{\"outlinewidth\":0,\"ticks\":\"\"}}],\"histogram2d\":[{\"type\":\"histogram2d\",\"colorbar\":{\"outlinewidth\":0,\"ticks\":\"\"},\"colorscale\":[[0.0,\"#0d0887\"],[0.1111111111111111,\"#46039f\"],[0.2222222222222222,\"#7201a8\"],[0.3333333333333333,\"#9c179e\"],[0.4444444444444444,\"#bd3786\"],[0.5555555555555556,\"#d8576b\"],[0.6666666666666666,\"#ed7953\"],[0.7777777777777778,\"#fb9f3a\"],[0.8888888888888888,\"#fdca26\"],[1.0,\"#f0f921\"]]}],\"heatmap\":[{\"type\":\"heatmap\",\"colorbar\":{\"outlinewidth\":0,\"ticks\":\"\"},\"colorscale\":[[0.0,\"#0d0887\"],[0.1111111111111111,\"#46039f\"],[0.2222222222222222,\"#7201a8\"],[0.3333333333333333,\"#9c179e\"],[0.4444444444444444,\"#bd3786\"],[0.5555555555555556,\"#d8576b\"],[0.6666666666666666,\"#ed7953\"],[0.7777777777777778,\"#fb9f3a\"],[0.8888888888888888,\"#fdca26\"],[1.0,\"#f0f921\"]]}],\"heatmapgl\":[{\"type\":\"heatmapgl\",\"colorbar\":{\"outlinewidth\":0,\"ticks\":\"\"},\"colorscale\":[[0.0,\"#0d0887\"],[0.1111111111111111,\"#46039f\"],[0.2222222222222222,\"#7201a8\"],[0.3333333333333333,\"#9c179e\"],[0.4444444444444444,\"#bd3786\"],[0.5555555555555556,\"#d8576b\"],[0.6666666666666666,\"#ed7953\"],[0.7777777777777778,\"#fb9f3a\"],[0.8888888888888888,\"#fdca26\"],[1.0,\"#f0f921\"]]}],\"contourcarpet\":[{\"type\":\"contourcarpet\",\"colorbar\":{\"outlinewidth\":0,\"ticks\":\"\"}}],\"contour\":[{\"type\":\"contour\",\"colorbar\":{\"outlinewidth\":0,\"ticks\":\"\"},\"colorscale\":[[0.0,\"#0d0887\"],[0.1111111111111111,\"#46039f\"],[0.2222222222222222,\"#7201a8\"],[0.3333333333333333,\"#9c179e\"],[0.4444444444444444,\"#bd3786\"],[0.5555555555555556,\"#d8576b\"],[0.6666666666666666,\"#ed7953\"],[0.7777777777777778,\"#fb9f3a\"],[0.8888888888888888,\"#fdca26\"],[1.0,\"#f0f921\"]]}],\"surface\":[{\"type\":\"surface\",\"colorbar\":{\"outlinewidth\":0,\"ticks\":\"\"},\"colorscale\":[[0.0,\"#0d0887\"],[0.1111111111111111,\"#46039f\"],[0.2222222222222222,\"#7201a8\"],[0.3333333333333333,\"#9c179e\"],[0.4444444444444444,\"#bd3786\"],[0.5555555555555556,\"#d8576b\"],[0.6666666666666666,\"#ed7953\"],[0.7777777777777778,\"#fb9f3a\"],[0.8888888888888888,\"#fdca26\"],[1.0,\"#f0f921\"]]}],\"mesh3d\":[{\"type\":\"mesh3d\",\"colorbar\":{\"outlinewidth\":0,\"ticks\":\"\"}}],\"scatter\":[{\"fillpattern\":{\"fillmode\":\"overlay\",\"size\":10,\"solidity\":0.2},\"type\":\"scatter\"}],\"parcoords\":[{\"type\":\"parcoords\",\"line\":{\"colorbar\":{\"outlinewidth\":0,\"ticks\":\"\"}}}],\"scatterpolargl\":[{\"type\":\"scatterpolargl\",\"marker\":{\"colorbar\":{\"outlinewidth\":0,\"ticks\":\"\"}}}],\"bar\":[{\"error_x\":{\"color\":\"#2a3f5f\"},\"error_y\":{\"color\":\"#2a3f5f\"},\"marker\":{\"line\":{\"color\":\"#E5ECF6\",\"width\":0.5},\"pattern\":{\"fillmode\":\"overlay\",\"size\":10,\"solidity\":0.2}},\"type\":\"bar\"}],\"scattergeo\":[{\"type\":\"scattergeo\",\"marker\":{\"colorbar\":{\"outlinewidth\":0,\"ticks\":\"\"}}}],\"scatterpolar\":[{\"type\":\"scatterpolar\",\"marker\":{\"colorbar\":{\"outlinewidth\":0,\"ticks\":\"\"}}}],\"histogram\":[{\"marker\":{\"pattern\":{\"fillmode\":\"overlay\",\"size\":10,\"solidity\":0.2}},\"type\":\"histogram\"}],\"scattergl\":[{\"type\":\"scattergl\",\"marker\":{\"colorbar\":{\"outlinewidth\":0,\"ticks\":\"\"}}}],\"scatter3d\":[{\"type\":\"scatter3d\",\"line\":{\"colorbar\":{\"outlinewidth\":0,\"ticks\":\"\"}},\"marker\":{\"colorbar\":{\"outlinewidth\":0,\"ticks\":\"\"}}}],\"scattermapbox\":[{\"type\":\"scattermapbox\",\"marker\":{\"colorbar\":{\"outlinewidth\":0,\"ticks\":\"\"}}}],\"scatterternary\":[{\"type\":\"scatterternary\",\"marker\":{\"colorbar\":{\"outlinewidth\":0,\"ticks\":\"\"}}}],\"scattercarpet\":[{\"type\":\"scattercarpet\",\"marker\":{\"colorbar\":{\"outlinewidth\":0,\"ticks\":\"\"}}}],\"carpet\":[{\"aaxis\":{\"endlinecolor\":\"#2a3f5f\",\"gridcolor\":\"white\",\"linecolor\":\"white\",\"minorgridcolor\":\"white\",\"startlinecolor\":\"#2a3f5f\"},\"baxis\":{\"endlinecolor\":\"#2a3f5f\",\"gridcolor\":\"white\",\"linecolor\":\"white\",\"minorgridcolor\":\"white\",\"startlinecolor\":\"#2a3f5f\"},\"type\":\"carpet\"}],\"table\":[{\"cells\":{\"fill\":{\"color\":\"#EBF0F8\"},\"line\":{\"color\":\"white\"}},\"header\":{\"fill\":{\"color\":\"#C8D4E3\"},\"line\":{\"color\":\"white\"}},\"type\":\"table\"}],\"barpolar\":[{\"marker\":{\"line\":{\"color\":\"#E5ECF6\",\"width\":0.5},\"pattern\":{\"fillmode\":\"overlay\",\"size\":10,\"solidity\":0.2}},\"type\":\"barpolar\"}],\"pie\":[{\"automargin\":true,\"type\":\"pie\"}]},\"layout\":{\"autotypenumbers\":\"strict\",\"colorway\":[\"#636efa\",\"#EF553B\",\"#00cc96\",\"#ab63fa\",\"#FFA15A\",\"#19d3f3\",\"#FF6692\",\"#B6E880\",\"#FF97FF\",\"#FECB52\"],\"font\":{\"color\":\"#2a3f5f\"},\"hovermode\":\"closest\",\"hoverlabel\":{\"align\":\"left\"},\"paper_bgcolor\":\"white\",\"plot_bgcolor\":\"#E5ECF6\",\"polar\":{\"bgcolor\":\"#E5ECF6\",\"angularaxis\":{\"gridcolor\":\"white\",\"linecolor\":\"white\",\"ticks\":\"\"},\"radialaxis\":{\"gridcolor\":\"white\",\"linecolor\":\"white\",\"ticks\":\"\"}},\"ternary\":{\"bgcolor\":\"#E5ECF6\",\"aaxis\":{\"gridcolor\":\"white\",\"linecolor\":\"white\",\"ticks\":\"\"},\"baxis\":{\"gridcolor\":\"white\",\"linecolor\":\"white\",\"ticks\":\"\"},\"caxis\":{\"gridcolor\":\"white\",\"linecolor\":\"white\",\"ticks\":\"\"}},\"coloraxis\":{\"colorbar\":{\"outlinewidth\":0,\"ticks\":\"\"}},\"colorscale\":{\"sequential\":[[0.0,\"#0d0887\"],[0.1111111111111111,\"#46039f\"],[0.2222222222222222,\"#7201a8\"],[0.3333333333333333,\"#9c179e\"],[0.4444444444444444,\"#bd3786\"],[0.5555555555555556,\"#d8576b\"],[0.6666666666666666,\"#ed7953\"],[0.7777777777777778,\"#fb9f3a\"],[0.8888888888888888,\"#fdca26\"],[1.0,\"#f0f921\"]],\"sequentialminus\":[[0.0,\"#0d0887\"],[0.1111111111111111,\"#46039f\"],[0.2222222222222222,\"#7201a8\"],[0.3333333333333333,\"#9c179e\"],[0.4444444444444444,\"#bd3786\"],[0.5555555555555556,\"#d8576b\"],[0.6666666666666666,\"#ed7953\"],[0.7777777777777778,\"#fb9f3a\"],[0.8888888888888888,\"#fdca26\"],[1.0,\"#f0f921\"]],\"diverging\":[[0,\"#8e0152\"],[0.1,\"#c51b7d\"],[0.2,\"#de77ae\"],[0.3,\"#f1b6da\"],[0.4,\"#fde0ef\"],[0.5,\"#f7f7f7\"],[0.6,\"#e6f5d0\"],[0.7,\"#b8e186\"],[0.8,\"#7fbc41\"],[0.9,\"#4d9221\"],[1,\"#276419\"]]},\"xaxis\":{\"gridcolor\":\"white\",\"linecolor\":\"white\",\"ticks\":\"\",\"title\":{\"standoff\":15},\"zerolinecolor\":\"white\",\"automargin\":true,\"zerolinewidth\":2},\"yaxis\":{\"gridcolor\":\"white\",\"linecolor\":\"white\",\"ticks\":\"\",\"title\":{\"standoff\":15},\"zerolinecolor\":\"white\",\"automargin\":true,\"zerolinewidth\":2},\"scene\":{\"xaxis\":{\"backgroundcolor\":\"#E5ECF6\",\"gridcolor\":\"white\",\"linecolor\":\"white\",\"showbackground\":true,\"ticks\":\"\",\"zerolinecolor\":\"white\",\"gridwidth\":2},\"yaxis\":{\"backgroundcolor\":\"#E5ECF6\",\"gridcolor\":\"white\",\"linecolor\":\"white\",\"showbackground\":true,\"ticks\":\"\",\"zerolinecolor\":\"white\",\"gridwidth\":2},\"zaxis\":{\"backgroundcolor\":\"#E5ECF6\",\"gridcolor\":\"white\",\"linecolor\":\"white\",\"showbackground\":true,\"ticks\":\"\",\"zerolinecolor\":\"white\",\"gridwidth\":2}},\"shapedefaults\":{\"line\":{\"color\":\"#2a3f5f\"}},\"annotationdefaults\":{\"arrowcolor\":\"#2a3f5f\",\"arrowhead\":0,\"arrowwidth\":1},\"geo\":{\"bgcolor\":\"white\",\"landcolor\":\"#E5ECF6\",\"subunitcolor\":\"white\",\"showland\":true,\"showlakes\":true,\"lakecolor\":\"white\"},\"title\":{\"x\":0.05},\"mapbox\":{\"style\":\"light\"}}},\"xaxis\":{\"title\":{\"text\":\"\\\\$\\\\sigma$\"},\"range\":[-0.01,0.40066356716288326],\"zerolinecolor\":\"Black\"},\"yaxis\":{\"title\":{\"text\":\"$\\\\mu$\"},\"zerolinecolor\":\"Black\"},\"title\":{\"font\":{\"size\":25,\"color\":\"Navy\"},\"text\":\"Efficient frontier\",\"x\":0.5,\"y\":0.87},\"showlegend\":false},                        {\"responsive\": true}                    ).then(function(){\n",
              "                            \n",
              "var gd = document.getElementById('4d8dcd0e-43a1-4806-99d3-a17c0bc573a4');\n",
              "var x = new MutationObserver(function (mutations, observer) {{\n",
              "        var display = window.getComputedStyle(gd).display;\n",
              "        if (!display || display === 'none') {{\n",
              "            console.log([gd, 'removed!']);\n",
              "            Plotly.purge(gd);\n",
              "            observer.disconnect();\n",
              "        }}\n",
              "}});\n",
              "\n",
              "// Listen for the removal of the full notebook cells\n",
              "var notebookContainer = gd.closest('#notebook-container');\n",
              "if (notebookContainer) {{\n",
              "    x.observe(notebookContainer, {childList: true});\n",
              "}}\n",
              "\n",
              "// Listen for the clearing of the current output cell\n",
              "var outputEl = gd.closest('.output');\n",
              "if (outputEl) {{\n",
              "    x.observe(outputEl, {childList: true});\n",
              "}}\n",
              "\n",
              "                        })                };                            </script>        </div>\n",
              "</body>\n",
              "</html>"
            ]
          },
          "metadata": {}
        }
      ]
    },
    {
      "cell_type": "markdown",
      "source": [
        "c) Consider equally weighted portfolio of these 5 stocks and two additional portfolios (labeled as P1 and P2 respectively) whose weights are given below:"
      ],
      "metadata": {
        "id": "x_NZMcaorsj8"
      }
    },
    {
      "cell_type": "code",
      "source": [
        "# Weights Portfolio 1\n",
        "wP1=[-0.0511,  0.2136,  0.1786,  0.482 ,  0.1769]\n",
        "\n",
        "#Weights portfolio 2\n",
        "wP2=[ 0.148 ,  0.0503,  0.3142,  0.4946, -0.0071]\n",
        "\n",
        "#Weights MVP\n",
        "wEq =[0.2]*5"
      ],
      "metadata": {
        "id": "aSHjZNqzrwf7"
      },
      "execution_count": 9,
      "outputs": []
    },
    {
      "cell_type": "markdown",
      "source": [
        "Try to determine whether P1, P2 and equally weighted portfolio are efficient investments (in terms of the mean-variance tradeoff). One nice way to do it is to plot them on previous graph. **If you can, nicely label** all 3 portfolios on the graph. Check the Bootcamp lecture on <font color='MediumSeaGreen'><b>Plotly</b></font> if you need to. Discuss whether they are are they efficient or not. Explain your reasoning."
      ],
      "metadata": {
        "id": "jHGfRBLSrxY7"
      }
    },
    {
      "cell_type": "code",
      "source": [
        "import plotly.graph_objects as go"
      ],
      "metadata": {
        "id": "PLlDXs0nryvl"
      },
      "execution_count": 14,
      "outputs": []
    },
    {
      "cell_type": "code",
      "source": [
        "#Preparing graph\n",
        "fig.add_traces([\n",
        "  go.Scatter(\n",
        "    x=[qt.pV(wP1, ret5, vol=True)],\n",
        "    y=[qt.per(wP1, ret5)],\n",
        "    mode='lines+markers+text',\n",
        "    marker=dict(\n",
        "      color='Gold',\n",
        "      size=10,\n",
        "      line=dict(\n",
        "        color='Black',\n",
        "        width=2\n",
        "      )\n",
        "    ),\n",
        "    text='P1',\n",
        "    textposition='bottom left'\n",
        "  ),\n",
        "  go.Scatter(\n",
        "    x=[qt.pV(wP2, ret5, vol=True)],\n",
        "    y=[qt.per(wP2, ret5)],\n",
        "    mode='lines+markers+text',\n",
        "    marker=dict(\n",
        "      color='Green',\n",
        "      size=10,\n",
        "      line=dict(\n",
        "        color='Black',\n",
        "        width=2\n",
        "      )\n",
        "    ),\n",
        "    text='P2',\n",
        "    textposition='top left'\n",
        "  ),\n",
        "  go.Scatter(\n",
        "    x=[qt.pV(wEq, ret5, vol=True)],\n",
        "    y=[qt.per(wEq, ret5)],\n",
        "    mode='lines+markers+text',\n",
        "    marker=dict(\n",
        "      color='Purple',\n",
        "      size=10,\n",
        "      line=dict(\n",
        "        color='Black',\n",
        "        width=2\n",
        "      )\n",
        "    ),\n",
        "    text='EQ',\n",
        "    textposition='top right'\n",
        "  ),\n",
        "])\n",
        "\n",
        "#Showing the data\n",
        "fig.show()"
      ],
      "metadata": {
        "colab": {
          "base_uri": "https://localhost:8080/",
          "height": 542
        },
        "id": "3vbRc5zPuVYT",
        "outputId": "08159fe3-1793-41bb-a3b6-a5b06a2bb52f"
      },
      "execution_count": 17,
      "outputs": [
        {
          "output_type": "display_data",
          "data": {
            "text/html": [
              "<html>\n",
              "<head><meta charset=\"utf-8\" /></head>\n",
              "<body>\n",
              "    <div>            <script src=\"https://cdnjs.cloudflare.com/ajax/libs/mathjax/2.7.5/MathJax.js?config=TeX-AMS-MML_SVG\"></script><script type=\"text/javascript\">if (window.MathJax && window.MathJax.Hub && window.MathJax.Hub.Config) {window.MathJax.Hub.Config({SVG: {font: \"STIX-Web\"}});}</script>                <script type=\"text/javascript\">window.PlotlyConfig = {MathJaxConfig: 'local'};</script>\n",
              "        <script charset=\"utf-8\" src=\"https://cdn.plot.ly/plotly-2.24.1.min.js\"></script>                <div id=\"5b52dad3-7122-4a6e-ba38-856fbfeed8f1\" class=\"plotly-graph-div\" style=\"height:525px; width:100%;\"></div>            <script type=\"text/javascript\">                                    window.PLOTLYENV=window.PLOTLYENV || {};                                    if (document.getElementById(\"5b52dad3-7122-4a6e-ba38-856fbfeed8f1\")) {                    Plotly.newPlot(                        \"5b52dad3-7122-4a6e-ba38-856fbfeed8f1\",                        [{\"fill\":\"tozeroy\",\"fillcolor\":\"Pink\",\"line\":{\"color\":\"Blue\",\"dash\":\"dash\"},\"x\":[0.2148043169399574,0.21377905602109776,0.21280125209461248,0.2118715622118678,0.2109906223855859,0.2101590456625377,0.20937742020312272,0.20864630737863682,0.2079662399301204,0.2073377201422166,0.20676121810406034,0.2062371700445271,0.20576597673875976,0.2053480020420592,0.20498357152127758,0.20467297121530056,0.20441644653424598,0.20421420131439633,0.20406639700809295,0.2039731520694254,0.20393454147441376,0.2039505964454649,0.20402130431632504,0.2041466085076236,0.2043264083890938,0.20456055831716358,0.2048488652197471,0.2051911046594811,0.20558700121959975,0.20603688690036032,0.2065385134280555,0.20709340346179642,0.20770050169168605,0.2083593486119969,0.20906945324587023,0.20983029440181122,0.21064132193803228,0.21150195834603605,0.21241160055277644,0.21336962173815321,0.21437537330775136,0.21542818674089656,0.21652737555691567,0.21767223720751275,0.2188620549612141,0.22009609972823208,0.22137363188996176,0.22269390303352649,0.22405615762154985,0.22545963464514668,0.2269035692066589,0.22838719393026954,0.2299097404589234,0.231470440737652,0.23306852831741146,0.2347032394872706,0.23637381440406463,0.23807949811107224,0.2398195414915925,0.24159320214398586,0.24339974516664922,0.24523844388097327,0.2471085804406814,0.24900944658556792,0.250940343979172,0.25290058473694144,0.2548894918254342,0.25690639962168416,0.25895065365049763,0.2610216115226712,0.26311864268219826,0.2652411286950349,0.2673884633804766,0.26956005296376156,0.27175531586995605,0.27397368326423555,0.27621459817550303,0.27847751647322655,0.2807619060301653,0.2830672471362087,0.2853930320059466,0.28773876486076827,0.2901039618658932,0.2924881508181845,0.29489087103349215,0.2973116732618906,0.29975011934522816,0.30220578223048133,0.3046782458061705,0.30716710420170795,0.3096719620631818,0.31219243428668514,0.3147281459110909,0.31727873127586054,0.3198438348064366,0.3224231099465087,0.32501621927973606,0.3276228341375728,0.3302426350734425,0.33287531033960727,0.33552055729944036,0.3381780805296551,0.34084759335577447,0.34352881581866346,0.34622147631863454,0.3489253097038064,0.35164005824447975,0.3543654712191254,0.35710130452714045,0.3598473202868657,0.36260328716493806,0.36536898001509455,0.3681441798502529,0.3709286732870953,0.3737222524513496,0.37652471488457784,0.3793358638654971,0.38215550785875085,0.38498346027370656,0.3878195386704577,0.39066356716288325],\"y\":[0.0,0.01,0.02,0.03,0.04,0.05,0.06,0.07,0.08,0.09,0.1,0.11,0.12,0.13,0.14,0.15,0.16,0.17,0.18,0.19,0.2,0.21,0.22,0.23,0.24,0.25,0.26,0.27,0.28,0.29,0.3,0.31,0.32,0.33,0.34,0.35000000000000003,0.36,0.37,0.38,0.39,0.4,0.41000000000000003,0.42,0.43,0.44,0.45,0.46,0.47000000000000003,0.48,0.49,0.5,0.51,0.52,0.53,0.54,0.55,0.56,0.5700000000000001,0.58,0.59,0.6,0.61,0.62,0.63,0.64,0.65,0.66,0.67,0.68,0.6900000000000001,0.7000000000000001,0.71,0.72,0.73,0.74,0.75,0.76,0.77,0.78,0.79,0.8,0.81,0.8200000000000001,0.8300000000000001,0.84,0.85,0.86,0.87,0.88,0.89,0.9,0.91,0.92,0.93,0.9400000000000001,0.9500000000000001,0.96,0.97,0.98,0.99,1.0,1.01,1.02,1.03,1.04,1.05,1.06,1.07,1.08,1.09,1.1,1.11,1.12,1.1300000000000001,1.1400000000000001,1.1500000000000001,1.16,1.17,1.18,1.19,1.2],\"type\":\"scatter\"},{\"line\":{\"color\":\"Blue\",\"width\":3},\"x\":[0.2039505964454649,0.20402130431632504,0.2041466085076236,0.2043264083890938,0.20456055831716358,0.2048488652197471,0.2051911046594811,0.20558700121959975,0.20603688690036032,0.2065385134280555,0.20709340346179642,0.20770050169168605,0.2083593486119969,0.20906945324587023,0.20983029440181122,0.21064132193803228,0.21150195834603605,0.21241160055277644,0.21336962173815321,0.21437537330775136,0.21542818674089656,0.21652737555691567,0.21767223720751275,0.2188620549612141,0.22009609972823208,0.22137363188996176,0.22269390303352649,0.22405615762154985,0.22545963464514668,0.2269035692066589,0.22838719393026954,0.2299097404589234,0.231470440737652,0.23306852831741146,0.2347032394872706,0.23637381440406463,0.23807949811107224,0.2398195414915925,0.24159320214398586,0.24339974516664922,0.24523844388097327,0.2471085804406814,0.24900944658556792,0.250940343979172,0.25290058473694144,0.2548894918254342,0.25690639962168416,0.25895065365049763,0.2610216115226712,0.26311864268219826,0.2652411286950349,0.2673884633804766,0.26956005296376156,0.27175531586995605,0.27397368326423555,0.27621459817550303,0.27847751647322655,0.2807619060301653,0.2830672471362087,0.2853930320059466,0.28773876486076827,0.2901039618658932,0.2924881508181845,0.29489087103349215,0.2973116732618906,0.29975011934522816,0.30220578223048133,0.3046782458061705,0.30716710420170795,0.3096719620631818,0.31219243428668514,0.3147281459110909,0.31727873127586054,0.3198438348064366,0.3224231099465087,0.32501621927973606,0.3276228341375728,0.3302426350734425,0.33287531033960727,0.33552055729944036,0.3381780805296551,0.34084759335577447,0.34352881581866346,0.34622147631863454,0.3489253097038064,0.35164005824447975,0.3543654712191254,0.35710130452714045,0.3598473202868657,0.36260328716493806,0.36536898001509455,0.3681441798502529,0.3709286732870953,0.3737222524513496,0.37652471488457784,0.3793358638654971,0.38215550785875085,0.38498346027370656,0.3878195386704577,0.39066356716288325],\"y\":[0.21,0.22,0.23,0.24,0.25,0.26,0.27,0.28,0.29,0.3,0.31,0.32,0.33,0.34,0.35000000000000003,0.36,0.37,0.38,0.39,0.4,0.41000000000000003,0.42,0.43,0.44,0.45,0.46,0.47000000000000003,0.48,0.49,0.5,0.51,0.52,0.53,0.54,0.55,0.56,0.5700000000000001,0.58,0.59,0.6,0.61,0.62,0.63,0.64,0.65,0.66,0.67,0.68,0.6900000000000001,0.7000000000000001,0.71,0.72,0.73,0.74,0.75,0.76,0.77,0.78,0.79,0.8,0.81,0.8200000000000001,0.8300000000000001,0.84,0.85,0.86,0.87,0.88,0.89,0.9,0.91,0.92,0.93,0.9400000000000001,0.9500000000000001,0.96,0.97,0.98,0.99,1.0,1.01,1.02,1.03,1.04,1.05,1.06,1.07,1.08,1.09,1.1,1.11,1.12,1.1300000000000001,1.1400000000000001,1.1500000000000001,1.16,1.17,1.18,1.19,1.2],\"type\":\"scatter\"},{\"marker\":{\"color\":\"Red\",\"line\":{\"color\":\"Black\",\"width\":2},\"size\":10},\"x\":[0.20393408773316402],\"y\":[0.20208994416189408],\"type\":\"scatter\"},{\"marker\":{\"color\":\"Gold\",\"line\":{\"color\":\"Black\",\"width\":2},\"size\":10},\"mode\":\"lines+markers+text\",\"text\":\"P1\",\"textposition\":\"bottom left\",\"x\":[0.20676124443001742],\"y\":[0.09999962504409339],\"type\":\"scatter\"},{\"marker\":{\"color\":\"Green\",\"line\":{\"color\":\"Black\",\"width\":2},\"size\":10},\"mode\":\"lines+markers+text\",\"text\":\"P2\",\"textposition\":\"top left\",\"x\":[0.20983345515224272],\"y\":[0.3500402942793907],\"type\":\"scatter\"},{\"marker\":{\"color\":\"Purple\",\"line\":{\"color\":\"Black\",\"width\":2},\"size\":10},\"mode\":\"lines+markers+text\",\"text\":\"EQ\",\"textposition\":\"top right\",\"x\":[0.2165217593714136],\"y\":[0.2792220255597482],\"type\":\"scatter\"}],                        {\"template\":{\"data\":{\"histogram2dcontour\":[{\"type\":\"histogram2dcontour\",\"colorbar\":{\"outlinewidth\":0,\"ticks\":\"\"},\"colorscale\":[[0.0,\"#0d0887\"],[0.1111111111111111,\"#46039f\"],[0.2222222222222222,\"#7201a8\"],[0.3333333333333333,\"#9c179e\"],[0.4444444444444444,\"#bd3786\"],[0.5555555555555556,\"#d8576b\"],[0.6666666666666666,\"#ed7953\"],[0.7777777777777778,\"#fb9f3a\"],[0.8888888888888888,\"#fdca26\"],[1.0,\"#f0f921\"]]}],\"choropleth\":[{\"type\":\"choropleth\",\"colorbar\":{\"outlinewidth\":0,\"ticks\":\"\"}}],\"histogram2d\":[{\"type\":\"histogram2d\",\"colorbar\":{\"outlinewidth\":0,\"ticks\":\"\"},\"colorscale\":[[0.0,\"#0d0887\"],[0.1111111111111111,\"#46039f\"],[0.2222222222222222,\"#7201a8\"],[0.3333333333333333,\"#9c179e\"],[0.4444444444444444,\"#bd3786\"],[0.5555555555555556,\"#d8576b\"],[0.6666666666666666,\"#ed7953\"],[0.7777777777777778,\"#fb9f3a\"],[0.8888888888888888,\"#fdca26\"],[1.0,\"#f0f921\"]]}],\"heatmap\":[{\"type\":\"heatmap\",\"colorbar\":{\"outlinewidth\":0,\"ticks\":\"\"},\"colorscale\":[[0.0,\"#0d0887\"],[0.1111111111111111,\"#46039f\"],[0.2222222222222222,\"#7201a8\"],[0.3333333333333333,\"#9c179e\"],[0.4444444444444444,\"#bd3786\"],[0.5555555555555556,\"#d8576b\"],[0.6666666666666666,\"#ed7953\"],[0.7777777777777778,\"#fb9f3a\"],[0.8888888888888888,\"#fdca26\"],[1.0,\"#f0f921\"]]}],\"heatmapgl\":[{\"type\":\"heatmapgl\",\"colorbar\":{\"outlinewidth\":0,\"ticks\":\"\"},\"colorscale\":[[0.0,\"#0d0887\"],[0.1111111111111111,\"#46039f\"],[0.2222222222222222,\"#7201a8\"],[0.3333333333333333,\"#9c179e\"],[0.4444444444444444,\"#bd3786\"],[0.5555555555555556,\"#d8576b\"],[0.6666666666666666,\"#ed7953\"],[0.7777777777777778,\"#fb9f3a\"],[0.8888888888888888,\"#fdca26\"],[1.0,\"#f0f921\"]]}],\"contourcarpet\":[{\"type\":\"contourcarpet\",\"colorbar\":{\"outlinewidth\":0,\"ticks\":\"\"}}],\"contour\":[{\"type\":\"contour\",\"colorbar\":{\"outlinewidth\":0,\"ticks\":\"\"},\"colorscale\":[[0.0,\"#0d0887\"],[0.1111111111111111,\"#46039f\"],[0.2222222222222222,\"#7201a8\"],[0.3333333333333333,\"#9c179e\"],[0.4444444444444444,\"#bd3786\"],[0.5555555555555556,\"#d8576b\"],[0.6666666666666666,\"#ed7953\"],[0.7777777777777778,\"#fb9f3a\"],[0.8888888888888888,\"#fdca26\"],[1.0,\"#f0f921\"]]}],\"surface\":[{\"type\":\"surface\",\"colorbar\":{\"outlinewidth\":0,\"ticks\":\"\"},\"colorscale\":[[0.0,\"#0d0887\"],[0.1111111111111111,\"#46039f\"],[0.2222222222222222,\"#7201a8\"],[0.3333333333333333,\"#9c179e\"],[0.4444444444444444,\"#bd3786\"],[0.5555555555555556,\"#d8576b\"],[0.6666666666666666,\"#ed7953\"],[0.7777777777777778,\"#fb9f3a\"],[0.8888888888888888,\"#fdca26\"],[1.0,\"#f0f921\"]]}],\"mesh3d\":[{\"type\":\"mesh3d\",\"colorbar\":{\"outlinewidth\":0,\"ticks\":\"\"}}],\"scatter\":[{\"fillpattern\":{\"fillmode\":\"overlay\",\"size\":10,\"solidity\":0.2},\"type\":\"scatter\"}],\"parcoords\":[{\"type\":\"parcoords\",\"line\":{\"colorbar\":{\"outlinewidth\":0,\"ticks\":\"\"}}}],\"scatterpolargl\":[{\"type\":\"scatterpolargl\",\"marker\":{\"colorbar\":{\"outlinewidth\":0,\"ticks\":\"\"}}}],\"bar\":[{\"error_x\":{\"color\":\"#2a3f5f\"},\"error_y\":{\"color\":\"#2a3f5f\"},\"marker\":{\"line\":{\"color\":\"#E5ECF6\",\"width\":0.5},\"pattern\":{\"fillmode\":\"overlay\",\"size\":10,\"solidity\":0.2}},\"type\":\"bar\"}],\"scattergeo\":[{\"type\":\"scattergeo\",\"marker\":{\"colorbar\":{\"outlinewidth\":0,\"ticks\":\"\"}}}],\"scatterpolar\":[{\"type\":\"scatterpolar\",\"marker\":{\"colorbar\":{\"outlinewidth\":0,\"ticks\":\"\"}}}],\"histogram\":[{\"marker\":{\"pattern\":{\"fillmode\":\"overlay\",\"size\":10,\"solidity\":0.2}},\"type\":\"histogram\"}],\"scattergl\":[{\"type\":\"scattergl\",\"marker\":{\"colorbar\":{\"outlinewidth\":0,\"ticks\":\"\"}}}],\"scatter3d\":[{\"type\":\"scatter3d\",\"line\":{\"colorbar\":{\"outlinewidth\":0,\"ticks\":\"\"}},\"marker\":{\"colorbar\":{\"outlinewidth\":0,\"ticks\":\"\"}}}],\"scattermapbox\":[{\"type\":\"scattermapbox\",\"marker\":{\"colorbar\":{\"outlinewidth\":0,\"ticks\":\"\"}}}],\"scatterternary\":[{\"type\":\"scatterternary\",\"marker\":{\"colorbar\":{\"outlinewidth\":0,\"ticks\":\"\"}}}],\"scattercarpet\":[{\"type\":\"scattercarpet\",\"marker\":{\"colorbar\":{\"outlinewidth\":0,\"ticks\":\"\"}}}],\"carpet\":[{\"aaxis\":{\"endlinecolor\":\"#2a3f5f\",\"gridcolor\":\"white\",\"linecolor\":\"white\",\"minorgridcolor\":\"white\",\"startlinecolor\":\"#2a3f5f\"},\"baxis\":{\"endlinecolor\":\"#2a3f5f\",\"gridcolor\":\"white\",\"linecolor\":\"white\",\"minorgridcolor\":\"white\",\"startlinecolor\":\"#2a3f5f\"},\"type\":\"carpet\"}],\"table\":[{\"cells\":{\"fill\":{\"color\":\"#EBF0F8\"},\"line\":{\"color\":\"white\"}},\"header\":{\"fill\":{\"color\":\"#C8D4E3\"},\"line\":{\"color\":\"white\"}},\"type\":\"table\"}],\"barpolar\":[{\"marker\":{\"line\":{\"color\":\"#E5ECF6\",\"width\":0.5},\"pattern\":{\"fillmode\":\"overlay\",\"size\":10,\"solidity\":0.2}},\"type\":\"barpolar\"}],\"pie\":[{\"automargin\":true,\"type\":\"pie\"}]},\"layout\":{\"autotypenumbers\":\"strict\",\"colorway\":[\"#636efa\",\"#EF553B\",\"#00cc96\",\"#ab63fa\",\"#FFA15A\",\"#19d3f3\",\"#FF6692\",\"#B6E880\",\"#FF97FF\",\"#FECB52\"],\"font\":{\"color\":\"#2a3f5f\"},\"hovermode\":\"closest\",\"hoverlabel\":{\"align\":\"left\"},\"paper_bgcolor\":\"white\",\"plot_bgcolor\":\"#E5ECF6\",\"polar\":{\"bgcolor\":\"#E5ECF6\",\"angularaxis\":{\"gridcolor\":\"white\",\"linecolor\":\"white\",\"ticks\":\"\"},\"radialaxis\":{\"gridcolor\":\"white\",\"linecolor\":\"white\",\"ticks\":\"\"}},\"ternary\":{\"bgcolor\":\"#E5ECF6\",\"aaxis\":{\"gridcolor\":\"white\",\"linecolor\":\"white\",\"ticks\":\"\"},\"baxis\":{\"gridcolor\":\"white\",\"linecolor\":\"white\",\"ticks\":\"\"},\"caxis\":{\"gridcolor\":\"white\",\"linecolor\":\"white\",\"ticks\":\"\"}},\"coloraxis\":{\"colorbar\":{\"outlinewidth\":0,\"ticks\":\"\"}},\"colorscale\":{\"sequential\":[[0.0,\"#0d0887\"],[0.1111111111111111,\"#46039f\"],[0.2222222222222222,\"#7201a8\"],[0.3333333333333333,\"#9c179e\"],[0.4444444444444444,\"#bd3786\"],[0.5555555555555556,\"#d8576b\"],[0.6666666666666666,\"#ed7953\"],[0.7777777777777778,\"#fb9f3a\"],[0.8888888888888888,\"#fdca26\"],[1.0,\"#f0f921\"]],\"sequentialminus\":[[0.0,\"#0d0887\"],[0.1111111111111111,\"#46039f\"],[0.2222222222222222,\"#7201a8\"],[0.3333333333333333,\"#9c179e\"],[0.4444444444444444,\"#bd3786\"],[0.5555555555555556,\"#d8576b\"],[0.6666666666666666,\"#ed7953\"],[0.7777777777777778,\"#fb9f3a\"],[0.8888888888888888,\"#fdca26\"],[1.0,\"#f0f921\"]],\"diverging\":[[0,\"#8e0152\"],[0.1,\"#c51b7d\"],[0.2,\"#de77ae\"],[0.3,\"#f1b6da\"],[0.4,\"#fde0ef\"],[0.5,\"#f7f7f7\"],[0.6,\"#e6f5d0\"],[0.7,\"#b8e186\"],[0.8,\"#7fbc41\"],[0.9,\"#4d9221\"],[1,\"#276419\"]]},\"xaxis\":{\"gridcolor\":\"white\",\"linecolor\":\"white\",\"ticks\":\"\",\"title\":{\"standoff\":15},\"zerolinecolor\":\"white\",\"automargin\":true,\"zerolinewidth\":2},\"yaxis\":{\"gridcolor\":\"white\",\"linecolor\":\"white\",\"ticks\":\"\",\"title\":{\"standoff\":15},\"zerolinecolor\":\"white\",\"automargin\":true,\"zerolinewidth\":2},\"scene\":{\"xaxis\":{\"backgroundcolor\":\"#E5ECF6\",\"gridcolor\":\"white\",\"linecolor\":\"white\",\"showbackground\":true,\"ticks\":\"\",\"zerolinecolor\":\"white\",\"gridwidth\":2},\"yaxis\":{\"backgroundcolor\":\"#E5ECF6\",\"gridcolor\":\"white\",\"linecolor\":\"white\",\"showbackground\":true,\"ticks\":\"\",\"zerolinecolor\":\"white\",\"gridwidth\":2},\"zaxis\":{\"backgroundcolor\":\"#E5ECF6\",\"gridcolor\":\"white\",\"linecolor\":\"white\",\"showbackground\":true,\"ticks\":\"\",\"zerolinecolor\":\"white\",\"gridwidth\":2}},\"shapedefaults\":{\"line\":{\"color\":\"#2a3f5f\"}},\"annotationdefaults\":{\"arrowcolor\":\"#2a3f5f\",\"arrowhead\":0,\"arrowwidth\":1},\"geo\":{\"bgcolor\":\"white\",\"landcolor\":\"#E5ECF6\",\"subunitcolor\":\"white\",\"showland\":true,\"showlakes\":true,\"lakecolor\":\"white\"},\"title\":{\"x\":0.05},\"mapbox\":{\"style\":\"light\"}}},\"xaxis\":{\"title\":{\"text\":\"\\\\$\\\\sigma$\"},\"range\":[-0.01,0.40066356716288326],\"zerolinecolor\":\"Black\"},\"yaxis\":{\"title\":{\"text\":\"$\\\\mu$\"},\"zerolinecolor\":\"Black\"},\"title\":{\"font\":{\"size\":25,\"color\":\"Navy\"},\"text\":\"Efficient frontier\",\"x\":0.5,\"y\":0.87},\"showlegend\":false},                        {\"responsive\": true}                    ).then(function(){\n",
              "                            \n",
              "var gd = document.getElementById('5b52dad3-7122-4a6e-ba38-856fbfeed8f1');\n",
              "var x = new MutationObserver(function (mutations, observer) {{\n",
              "        var display = window.getComputedStyle(gd).display;\n",
              "        if (!display || display === 'none') {{\n",
              "            console.log([gd, 'removed!']);\n",
              "            Plotly.purge(gd);\n",
              "            observer.disconnect();\n",
              "        }}\n",
              "}});\n",
              "\n",
              "// Listen for the removal of the full notebook cells\n",
              "var notebookContainer = gd.closest('#notebook-container');\n",
              "if (notebookContainer) {{\n",
              "    x.observe(notebookContainer, {childList: true});\n",
              "}}\n",
              "\n",
              "// Listen for the clearing of the current output cell\n",
              "var outputEl = gd.closest('.output');\n",
              "if (outputEl) {{\n",
              "    x.observe(outputEl, {childList: true});\n",
              "}}\n",
              "\n",
              "                        })                };                            </script>        </div>\n",
              "</body>\n",
              "</html>"
            ]
          },
          "metadata": {}
        }
      ]
    },
    {
      "cell_type": "markdown",
      "source": [
        "<font color='crimson'>Put your comment here</font> : <font color='crimson'>Both portfolios P1 & P2 are on the efficient frontier, however portfolio 1 is under the MVP, meaning its risk is higher than the MVP, but with even lower returns: so it is never going to be a worthwhile investment. Portfolio 2 on the other hand, lives above the MVP and therefore is a valid investment; whether or not it should be taken depends only on our investor's risk aversion. The equally weighted portfolio (EQ) does not lie on the efficient frontier, and is therefore not an optimal investment.</font>"
      ],
      "metadata": {
        "id": "rqGwl2NerzeV"
      }
    },
    {
      "cell_type": "markdown",
      "source": [
        "d) Create a new graph on which will be compared **portfolio possibilities curves** for the opportunity sets comprised of the **first 5**, **first 10** and **all 15 stocks** (i.e. curves based on generated variables *ret5*, *ret10* and *ret15*). Thus, you should have 3 different portfolio possibilities curves on the same graph."
      ],
      "metadata": {
        "id": "iy2B-W3PsGks"
      }
    },
    {
      "cell_type": "markdown",
      "source": [
        "What happens in terms of risk-return tradeoff when we expand the opportunity set? In particular, for a given level of the expected return, what happens with the correponding minimal risk with which such return can be realized?"
      ],
      "metadata": {
        "id": "dRRRSzMrybPZ"
      }
    },
    {
      "cell_type": "code",
      "source": [
        "#15 stocks Efficient frontier\n",
        "fig15 = qt.EF(ret15,[0,1.2],'curve')\n",
        "\n",
        "#10 stocks Efficient frontier\n",
        "fig10 = qt.EF(ret10,[0,1.2],'curve')\n",
        "\n",
        "#5 stocks Efficient frontier\n",
        "fig5 = qt.EF(ret5,[0,1.2], 'curve')"
      ],
      "metadata": {
        "id": "wE02UxKhxX-g"
      },
      "execution_count": 19,
      "outputs": []
    },
    {
      "cell_type": "code",
      "source": [
        "#Prepare data for graph\n",
        "figCombined = go.Figure()\n",
        "figCombined.add_trace(go.Scatter(x=fig15.data[0].x, y=fig15.data[0].y, name='15 stocks'))\n",
        "figCombined.add_trace(go.Scatter(x=fig10.data[0].x, y=fig10.data[0].y, name= '10 stocks'))\n",
        "figCombined.add_trace(go.Scatter(x=fig5.data[0].x, y=fig.data[0].x,name ='5 stocks'))\n",
        "\n",
        "#Showing data\n",
        "figCombined.show()"
      ],
      "metadata": {
        "colab": {
          "base_uri": "https://localhost:8080/",
          "height": 542
        },
        "id": "-QBZ02EtxtpC",
        "outputId": "8eb6acb9-f609-496a-ec07-58bc4279edfd"
      },
      "execution_count": 21,
      "outputs": [
        {
          "output_type": "display_data",
          "data": {
            "text/html": [
              "<html>\n",
              "<head><meta charset=\"utf-8\" /></head>\n",
              "<body>\n",
              "    <div>            <script src=\"https://cdnjs.cloudflare.com/ajax/libs/mathjax/2.7.5/MathJax.js?config=TeX-AMS-MML_SVG\"></script><script type=\"text/javascript\">if (window.MathJax && window.MathJax.Hub && window.MathJax.Hub.Config) {window.MathJax.Hub.Config({SVG: {font: \"STIX-Web\"}});}</script>                <script type=\"text/javascript\">window.PlotlyConfig = {MathJaxConfig: 'local'};</script>\n",
              "        <script charset=\"utf-8\" src=\"https://cdn.plot.ly/plotly-2.24.1.min.js\"></script>                <div id=\"10c0e8f6-3e01-4406-91e7-a3db095760ce\" class=\"plotly-graph-div\" style=\"height:525px; width:100%;\"></div>            <script type=\"text/javascript\">                                    window.PLOTLYENV=window.PLOTLYENV || {};                                    if (document.getElementById(\"10c0e8f6-3e01-4406-91e7-a3db095760ce\")) {                    Plotly.newPlot(                        \"10c0e8f6-3e01-4406-91e7-a3db095760ce\",                        [{\"name\":\"15 stocks\",\"x\":[0.10067636896915763,0.1005544261848753,0.1004797281993383,0.10045227969579132,0.10047437305120945,0.10055477963169976,0.10066976500532474,0.10083195382868011,0.10104138391926537,0.10125969801987734,0.10159106286915809,0.10193710412127072,0.10232759643383822,0.10276525852363022,0.10324941087836752,0.1037724909762029,0.10431494422773625,0.10496459036813241,0.1056168150392344,0.10631009669890643,0.10704345947967611,0.1078031461424243,0.10861240574830082,0.10946120942189917,0.11034649440476502,0.11126750712819478,0.11222340517277964,0.11321331721949573,0.11423636314101539,0.11529166217933955,0.11637833727057552,0.11749553044595841,0.11864239239075286,0.11981802138473145,0.12102159032389957,0.12225525261420285,0.12351218387336925,0.12479464108441658,0.12610184635457836,0.1274330380247619,0.1287874718850983,0.13016442184889698,0.13156318053238114,0.13298305934813898,0.1344233887348891,0.13588351817316915,0.13736281610075202,0.1388606698374794,0.14037648542854914,0.14190968729379091,0.14345971812328817,0.1450260384084112,0.14660812622193123,0.14820547680574636,0.14981760212448011,0.15144403062656978,0.15308430660806366,0.15473798993887714,0.15640465558765687,0.1580813424850713,0.15977273267692216,0.16147591265311342,0.16319051335982965,0.16491617865796468,0.16665256493267114,0.16839934066153284,0.17015618602294016,0.17192279242212666,0.17368204439711862,0.17546739795032684,0.1772616503519526,0.1790645338009854,0.18087579019978253,0.18269517031229246,0.18452243372151284,0.18635734834818513,0.18819969031500153,0.19004924347503596,0.19190579920552855,0.19376915609188075,0.19563911972595127,0.19751550237555732,0.1993981227110766,0.20128680558510972,0.20318138194566696,0.2050816883194718,0.20698756689599945,0.20889886507278183,0.21081543539504102,0.21273713533918243,0.2146638271077887,0.21659537748112107,0.21853165760947882,0.22047254284432696,0.22241791260755142,0.2243676502688394,0.2263216429283216,0.2282797813086943,0.230241959627399,0.23220807548713251,0.23417802964530518,0.2361517261535889,0.23812907973901212,0.24010999480107792,0.24209437999313768,0.24408215096613742,0.246073225764819,0.24806752495183448,0.25006497157570184,0.25206549087161445,0.25406901035940765,0.2560754596335239,0.25808477048414735,0.2600968766254595,0.26211171372190917,0.264129219331268,0.2661493327489822,0.26817199507718265,0.2701971491657682,0.2722247393298134,0.2742547116129585],\"y\":[0.0,0.01,0.02,0.03,0.04,0.05,0.06,0.07,0.08,0.09,0.1,0.11,0.12,0.13,0.14,0.15,0.16,0.17,0.18,0.19,0.2,0.21,0.22,0.23,0.24,0.25,0.26,0.27,0.28,0.29,0.3,0.31,0.32,0.33,0.34,0.35000000000000003,0.36,0.37,0.38,0.39,0.4,0.41000000000000003,0.42,0.43,0.44,0.45,0.46,0.47000000000000003,0.48,0.49,0.5,0.51,0.52,0.53,0.54,0.55,0.56,0.5700000000000001,0.58,0.59,0.6,0.61,0.62,0.63,0.64,0.65,0.66,0.67,0.68,0.6900000000000001,0.7000000000000001,0.71,0.72,0.73,0.74,0.75,0.76,0.77,0.78,0.79,0.8,0.81,0.8200000000000001,0.8300000000000001,0.84,0.85,0.86,0.87,0.88,0.89,0.9,0.91,0.92,0.93,0.9400000000000001,0.9500000000000001,0.96,0.97,0.98,0.99,1.0,1.01,1.02,1.03,1.04,1.05,1.06,1.07,1.08,1.09,1.1,1.11,1.12,1.1300000000000001,1.1400000000000001,1.1500000000000001,1.16,1.17,1.18,1.19,1.2],\"type\":\"scatter\"},{\"name\":\"10 stocks\",\"x\":[0.15418744144300187,0.15407489095434604,0.15400336380482316,0.15397291710568792,0.15398357515207667,0.15403532934810382,0.15412813821093582,0.15426192756153512,0.1544365908054416,0.15465198934943228,0.15490795315170638,0.15520428135807138,0.15554074305747634,0.1559170781618522,0.15633299864013903,0.1567881968506122,0.15728395819777233,0.15781505495901973,0.15838588081129526,0.15899448122746912,0.15964043655724144,0.16032328262367435,0.1610429894232091,0.16179761960761851,0.16258819017165282,0.16341368693312872,0.16427356863688006,0.16516729736153998,0.16609432651924644,0.16705410169052398,0.1680460618356898,0.1690696405558717,0.17012426726832552,0.17120936838749112,0.17232436842113863,0.17346869104741536,0.17464176008435126,0.17584300046178541,0.17707183905606766,0.17832770557591957,0.17961003330425232,0.18091825977161138,0.18225182746569793,0.1836101844076192,0.18499278469035518,0.18639908897396265,0.18782856495469522,0.1892806877185131,0.1907549401650439,0.19225081323259086,0.1937678062228977,0.19530542701917283,0.1968631922658012,0.19844062753750205,0.20003726750972814,0.20165265593767684,0.20328634583221264,0.20493789945772833,0.20660688839829494,0.20829289345505286,0.20999550472187686,0.2117143215113515,0.21344895225143098,0.2151990145085487,0.21696413477866236,0.21874394846973005,0.22053809983152947,0.22234624170212772,0.22416803551304873,0.2260031510694885,0.22785126645985607,0.2297120678696736,0.23158524949781475,0.2334705132897131,0.23536756891491134,0.23727613350130955,0.23919593154094904,0.2411266947089797,0.24306816167104167,0.24502007800066497,0.24698219591807946,0.24895427415816407,0.25093607797224343,0.25292737868494275,0.2549279537573132,0.2569375865244435,0.2589560661337312,0.26098318731568454,0.26301875022614163,0.2650625604247977,0.2671144285597926,0.2691741703867738,0.2712416065103452,0.27331656233957197,0.2753988679152373,0.2774883577455976,0.2795848707920091,0.2816882502421976,0.2837983434306169,0.2859150016427671,0.2880380802438332,0.2901674382277889,0.2923029384451067,0.29444444721063096,0.29659183440141046,0.29874497320374516,0.3009037401667671,0.30306801511325954,0.30523768080080615,0.30741262304582373,0.30959273069577004,0.31177789542255957,0.3139680116040528,0.3161629763829829,0.31836268940663803,0.32056705304727934,0.32277597193581326,0.3249893531267447,0.32720710618601256,0.32942914276139207,0.33165537674690787],\"y\":[0.0,0.01,0.02,0.03,0.04,0.05,0.06,0.07,0.08,0.09,0.1,0.11,0.12,0.13,0.14,0.15,0.16,0.17,0.18,0.19,0.2,0.21,0.22,0.23,0.24,0.25,0.26,0.27,0.28,0.29,0.3,0.31,0.32,0.33,0.34,0.35000000000000003,0.36,0.37,0.38,0.39,0.4,0.41000000000000003,0.42,0.43,0.44,0.45,0.46,0.47000000000000003,0.48,0.49,0.5,0.51,0.52,0.53,0.54,0.55,0.56,0.5700000000000001,0.58,0.59,0.6,0.61,0.62,0.63,0.64,0.65,0.66,0.67,0.68,0.6900000000000001,0.7000000000000001,0.71,0.72,0.73,0.74,0.75,0.76,0.77,0.78,0.79,0.8,0.81,0.8200000000000001,0.8300000000000001,0.84,0.85,0.86,0.87,0.88,0.89,0.9,0.91,0.92,0.93,0.9400000000000001,0.9500000000000001,0.96,0.97,0.98,0.99,1.0,1.01,1.02,1.03,1.04,1.05,1.06,1.07,1.08,1.09,1.1,1.11,1.12,1.1300000000000001,1.1400000000000001,1.1500000000000001,1.16,1.17,1.18,1.19,1.2],\"type\":\"scatter\"},{\"name\":\"5 stocks\",\"x\":[0.2148043169399574,0.21377905602109776,0.21280125209461248,0.2118715622118678,0.2109906223855859,0.2101590456625377,0.20937742020312272,0.20864630737863682,0.2079662399301204,0.2073377201422166,0.20676121810406034,0.2062371700445271,0.20576597673875976,0.2053480020420592,0.20498357152127758,0.20467297121530056,0.20441644653424598,0.20421420131439633,0.20406639700809295,0.2039731520694254,0.20393454147441376,0.2039505964454649,0.20402130431632504,0.2041466085076236,0.2043264083890938,0.20456055831716358,0.2048488652197471,0.2051911046594811,0.20558700121959975,0.20603688690036032,0.2065385134280555,0.20709340346179642,0.20770050169168605,0.2083593486119969,0.20906945324587023,0.20983029440181122,0.21064132193803228,0.21150195834603605,0.21241160055277644,0.21336962173815321,0.21437537330775136,0.21542818674089656,0.21652737555691567,0.21767223720751275,0.2188620549612141,0.22009609972823208,0.22137363188996176,0.22269390303352649,0.22405615762154985,0.22545963464514668,0.2269035692066589,0.22838719393026954,0.2299097404589234,0.231470440737652,0.23306852831741146,0.2347032394872706,0.23637381440406463,0.23807949811107224,0.2398195414915925,0.24159320214398586,0.24339974516664922,0.24523844388097327,0.2471085804406814,0.24900944658556792,0.250940343979172,0.25290058473694144,0.2548894918254342,0.25690639962168416,0.25895065365049763,0.2610216115226712,0.26311864268219826,0.2652411286950349,0.2673884633804766,0.26956005296376156,0.27175531586995605,0.27397368326423555,0.27621459817550303,0.27847751647322655,0.2807619060301653,0.2830672471362087,0.2853930320059466,0.28773876486076827,0.2901039618658932,0.2924881508181845,0.29489087103349215,0.2973116732618906,0.29975011934522816,0.30220578223048133,0.3046782458061705,0.30716710420170795,0.3096719620631818,0.31219243428668514,0.3147281459110909,0.31727873127586054,0.3198438348064366,0.3224231099465087,0.32501621927973606,0.3276228341375728,0.3302426350734425,0.33287531033960727,0.33552055729944036,0.3381780805296551,0.34084759335577447,0.34352881581866346,0.34622147631863454,0.3489253097038064,0.35164005824447975,0.3543654712191254,0.35710130452714045,0.3598473202868657,0.36260328716493806,0.36536898001509455,0.3681441798502529,0.3709286732870953,0.3737222524513496,0.37652471488457784,0.3793358638654971,0.38215550785875085,0.38498346027370656,0.3878195386704577,0.39066356716288325],\"y\":[0.2148043169399574,0.21377905602109776,0.21280125209461248,0.2118715622118678,0.2109906223855859,0.2101590456625377,0.20937742020312272,0.20864630737863682,0.2079662399301204,0.2073377201422166,0.20676121810406034,0.2062371700445271,0.20576597673875976,0.2053480020420592,0.20498357152127758,0.20467297121530056,0.20441644653424598,0.20421420131439633,0.20406639700809295,0.2039731520694254,0.20393454147441376,0.2039505964454649,0.20402130431632504,0.2041466085076236,0.2043264083890938,0.20456055831716358,0.2048488652197471,0.2051911046594811,0.20558700121959975,0.20603688690036032,0.2065385134280555,0.20709340346179642,0.20770050169168605,0.2083593486119969,0.20906945324587023,0.20983029440181122,0.21064132193803228,0.21150195834603605,0.21241160055277644,0.21336962173815321,0.21437537330775136,0.21542818674089656,0.21652737555691567,0.21767223720751275,0.2188620549612141,0.22009609972823208,0.22137363188996176,0.22269390303352649,0.22405615762154985,0.22545963464514668,0.2269035692066589,0.22838719393026954,0.2299097404589234,0.231470440737652,0.23306852831741146,0.2347032394872706,0.23637381440406463,0.23807949811107224,0.2398195414915925,0.24159320214398586,0.24339974516664922,0.24523844388097327,0.2471085804406814,0.24900944658556792,0.250940343979172,0.25290058473694144,0.2548894918254342,0.25690639962168416,0.25895065365049763,0.2610216115226712,0.26311864268219826,0.2652411286950349,0.2673884633804766,0.26956005296376156,0.27175531586995605,0.27397368326423555,0.27621459817550303,0.27847751647322655,0.2807619060301653,0.2830672471362087,0.2853930320059466,0.28773876486076827,0.2901039618658932,0.2924881508181845,0.29489087103349215,0.2973116732618906,0.29975011934522816,0.30220578223048133,0.3046782458061705,0.30716710420170795,0.3096719620631818,0.31219243428668514,0.3147281459110909,0.31727873127586054,0.3198438348064366,0.3224231099465087,0.32501621927973606,0.3276228341375728,0.3302426350734425,0.33287531033960727,0.33552055729944036,0.3381780805296551,0.34084759335577447,0.34352881581866346,0.34622147631863454,0.3489253097038064,0.35164005824447975,0.3543654712191254,0.35710130452714045,0.3598473202868657,0.36260328716493806,0.36536898001509455,0.3681441798502529,0.3709286732870953,0.3737222524513496,0.37652471488457784,0.3793358638654971,0.38215550785875085,0.38498346027370656,0.3878195386704577,0.39066356716288325],\"type\":\"scatter\"}],                        {\"template\":{\"data\":{\"histogram2dcontour\":[{\"type\":\"histogram2dcontour\",\"colorbar\":{\"outlinewidth\":0,\"ticks\":\"\"},\"colorscale\":[[0.0,\"#0d0887\"],[0.1111111111111111,\"#46039f\"],[0.2222222222222222,\"#7201a8\"],[0.3333333333333333,\"#9c179e\"],[0.4444444444444444,\"#bd3786\"],[0.5555555555555556,\"#d8576b\"],[0.6666666666666666,\"#ed7953\"],[0.7777777777777778,\"#fb9f3a\"],[0.8888888888888888,\"#fdca26\"],[1.0,\"#f0f921\"]]}],\"choropleth\":[{\"type\":\"choropleth\",\"colorbar\":{\"outlinewidth\":0,\"ticks\":\"\"}}],\"histogram2d\":[{\"type\":\"histogram2d\",\"colorbar\":{\"outlinewidth\":0,\"ticks\":\"\"},\"colorscale\":[[0.0,\"#0d0887\"],[0.1111111111111111,\"#46039f\"],[0.2222222222222222,\"#7201a8\"],[0.3333333333333333,\"#9c179e\"],[0.4444444444444444,\"#bd3786\"],[0.5555555555555556,\"#d8576b\"],[0.6666666666666666,\"#ed7953\"],[0.7777777777777778,\"#fb9f3a\"],[0.8888888888888888,\"#fdca26\"],[1.0,\"#f0f921\"]]}],\"heatmap\":[{\"type\":\"heatmap\",\"colorbar\":{\"outlinewidth\":0,\"ticks\":\"\"},\"colorscale\":[[0.0,\"#0d0887\"],[0.1111111111111111,\"#46039f\"],[0.2222222222222222,\"#7201a8\"],[0.3333333333333333,\"#9c179e\"],[0.4444444444444444,\"#bd3786\"],[0.5555555555555556,\"#d8576b\"],[0.6666666666666666,\"#ed7953\"],[0.7777777777777778,\"#fb9f3a\"],[0.8888888888888888,\"#fdca26\"],[1.0,\"#f0f921\"]]}],\"heatmapgl\":[{\"type\":\"heatmapgl\",\"colorbar\":{\"outlinewidth\":0,\"ticks\":\"\"},\"colorscale\":[[0.0,\"#0d0887\"],[0.1111111111111111,\"#46039f\"],[0.2222222222222222,\"#7201a8\"],[0.3333333333333333,\"#9c179e\"],[0.4444444444444444,\"#bd3786\"],[0.5555555555555556,\"#d8576b\"],[0.6666666666666666,\"#ed7953\"],[0.7777777777777778,\"#fb9f3a\"],[0.8888888888888888,\"#fdca26\"],[1.0,\"#f0f921\"]]}],\"contourcarpet\":[{\"type\":\"contourcarpet\",\"colorbar\":{\"outlinewidth\":0,\"ticks\":\"\"}}],\"contour\":[{\"type\":\"contour\",\"colorbar\":{\"outlinewidth\":0,\"ticks\":\"\"},\"colorscale\":[[0.0,\"#0d0887\"],[0.1111111111111111,\"#46039f\"],[0.2222222222222222,\"#7201a8\"],[0.3333333333333333,\"#9c179e\"],[0.4444444444444444,\"#bd3786\"],[0.5555555555555556,\"#d8576b\"],[0.6666666666666666,\"#ed7953\"],[0.7777777777777778,\"#fb9f3a\"],[0.8888888888888888,\"#fdca26\"],[1.0,\"#f0f921\"]]}],\"surface\":[{\"type\":\"surface\",\"colorbar\":{\"outlinewidth\":0,\"ticks\":\"\"},\"colorscale\":[[0.0,\"#0d0887\"],[0.1111111111111111,\"#46039f\"],[0.2222222222222222,\"#7201a8\"],[0.3333333333333333,\"#9c179e\"],[0.4444444444444444,\"#bd3786\"],[0.5555555555555556,\"#d8576b\"],[0.6666666666666666,\"#ed7953\"],[0.7777777777777778,\"#fb9f3a\"],[0.8888888888888888,\"#fdca26\"],[1.0,\"#f0f921\"]]}],\"mesh3d\":[{\"type\":\"mesh3d\",\"colorbar\":{\"outlinewidth\":0,\"ticks\":\"\"}}],\"scatter\":[{\"fillpattern\":{\"fillmode\":\"overlay\",\"size\":10,\"solidity\":0.2},\"type\":\"scatter\"}],\"parcoords\":[{\"type\":\"parcoords\",\"line\":{\"colorbar\":{\"outlinewidth\":0,\"ticks\":\"\"}}}],\"scatterpolargl\":[{\"type\":\"scatterpolargl\",\"marker\":{\"colorbar\":{\"outlinewidth\":0,\"ticks\":\"\"}}}],\"bar\":[{\"error_x\":{\"color\":\"#2a3f5f\"},\"error_y\":{\"color\":\"#2a3f5f\"},\"marker\":{\"line\":{\"color\":\"#E5ECF6\",\"width\":0.5},\"pattern\":{\"fillmode\":\"overlay\",\"size\":10,\"solidity\":0.2}},\"type\":\"bar\"}],\"scattergeo\":[{\"type\":\"scattergeo\",\"marker\":{\"colorbar\":{\"outlinewidth\":0,\"ticks\":\"\"}}}],\"scatterpolar\":[{\"type\":\"scatterpolar\",\"marker\":{\"colorbar\":{\"outlinewidth\":0,\"ticks\":\"\"}}}],\"histogram\":[{\"marker\":{\"pattern\":{\"fillmode\":\"overlay\",\"size\":10,\"solidity\":0.2}},\"type\":\"histogram\"}],\"scattergl\":[{\"type\":\"scattergl\",\"marker\":{\"colorbar\":{\"outlinewidth\":0,\"ticks\":\"\"}}}],\"scatter3d\":[{\"type\":\"scatter3d\",\"line\":{\"colorbar\":{\"outlinewidth\":0,\"ticks\":\"\"}},\"marker\":{\"colorbar\":{\"outlinewidth\":0,\"ticks\":\"\"}}}],\"scattermapbox\":[{\"type\":\"scattermapbox\",\"marker\":{\"colorbar\":{\"outlinewidth\":0,\"ticks\":\"\"}}}],\"scatterternary\":[{\"type\":\"scatterternary\",\"marker\":{\"colorbar\":{\"outlinewidth\":0,\"ticks\":\"\"}}}],\"scattercarpet\":[{\"type\":\"scattercarpet\",\"marker\":{\"colorbar\":{\"outlinewidth\":0,\"ticks\":\"\"}}}],\"carpet\":[{\"aaxis\":{\"endlinecolor\":\"#2a3f5f\",\"gridcolor\":\"white\",\"linecolor\":\"white\",\"minorgridcolor\":\"white\",\"startlinecolor\":\"#2a3f5f\"},\"baxis\":{\"endlinecolor\":\"#2a3f5f\",\"gridcolor\":\"white\",\"linecolor\":\"white\",\"minorgridcolor\":\"white\",\"startlinecolor\":\"#2a3f5f\"},\"type\":\"carpet\"}],\"table\":[{\"cells\":{\"fill\":{\"color\":\"#EBF0F8\"},\"line\":{\"color\":\"white\"}},\"header\":{\"fill\":{\"color\":\"#C8D4E3\"},\"line\":{\"color\":\"white\"}},\"type\":\"table\"}],\"barpolar\":[{\"marker\":{\"line\":{\"color\":\"#E5ECF6\",\"width\":0.5},\"pattern\":{\"fillmode\":\"overlay\",\"size\":10,\"solidity\":0.2}},\"type\":\"barpolar\"}],\"pie\":[{\"automargin\":true,\"type\":\"pie\"}]},\"layout\":{\"autotypenumbers\":\"strict\",\"colorway\":[\"#636efa\",\"#EF553B\",\"#00cc96\",\"#ab63fa\",\"#FFA15A\",\"#19d3f3\",\"#FF6692\",\"#B6E880\",\"#FF97FF\",\"#FECB52\"],\"font\":{\"color\":\"#2a3f5f\"},\"hovermode\":\"closest\",\"hoverlabel\":{\"align\":\"left\"},\"paper_bgcolor\":\"white\",\"plot_bgcolor\":\"#E5ECF6\",\"polar\":{\"bgcolor\":\"#E5ECF6\",\"angularaxis\":{\"gridcolor\":\"white\",\"linecolor\":\"white\",\"ticks\":\"\"},\"radialaxis\":{\"gridcolor\":\"white\",\"linecolor\":\"white\",\"ticks\":\"\"}},\"ternary\":{\"bgcolor\":\"#E5ECF6\",\"aaxis\":{\"gridcolor\":\"white\",\"linecolor\":\"white\",\"ticks\":\"\"},\"baxis\":{\"gridcolor\":\"white\",\"linecolor\":\"white\",\"ticks\":\"\"},\"caxis\":{\"gridcolor\":\"white\",\"linecolor\":\"white\",\"ticks\":\"\"}},\"coloraxis\":{\"colorbar\":{\"outlinewidth\":0,\"ticks\":\"\"}},\"colorscale\":{\"sequential\":[[0.0,\"#0d0887\"],[0.1111111111111111,\"#46039f\"],[0.2222222222222222,\"#7201a8\"],[0.3333333333333333,\"#9c179e\"],[0.4444444444444444,\"#bd3786\"],[0.5555555555555556,\"#d8576b\"],[0.6666666666666666,\"#ed7953\"],[0.7777777777777778,\"#fb9f3a\"],[0.8888888888888888,\"#fdca26\"],[1.0,\"#f0f921\"]],\"sequentialminus\":[[0.0,\"#0d0887\"],[0.1111111111111111,\"#46039f\"],[0.2222222222222222,\"#7201a8\"],[0.3333333333333333,\"#9c179e\"],[0.4444444444444444,\"#bd3786\"],[0.5555555555555556,\"#d8576b\"],[0.6666666666666666,\"#ed7953\"],[0.7777777777777778,\"#fb9f3a\"],[0.8888888888888888,\"#fdca26\"],[1.0,\"#f0f921\"]],\"diverging\":[[0,\"#8e0152\"],[0.1,\"#c51b7d\"],[0.2,\"#de77ae\"],[0.3,\"#f1b6da\"],[0.4,\"#fde0ef\"],[0.5,\"#f7f7f7\"],[0.6,\"#e6f5d0\"],[0.7,\"#b8e186\"],[0.8,\"#7fbc41\"],[0.9,\"#4d9221\"],[1,\"#276419\"]]},\"xaxis\":{\"gridcolor\":\"white\",\"linecolor\":\"white\",\"ticks\":\"\",\"title\":{\"standoff\":15},\"zerolinecolor\":\"white\",\"automargin\":true,\"zerolinewidth\":2},\"yaxis\":{\"gridcolor\":\"white\",\"linecolor\":\"white\",\"ticks\":\"\",\"title\":{\"standoff\":15},\"zerolinecolor\":\"white\",\"automargin\":true,\"zerolinewidth\":2},\"scene\":{\"xaxis\":{\"backgroundcolor\":\"#E5ECF6\",\"gridcolor\":\"white\",\"linecolor\":\"white\",\"showbackground\":true,\"ticks\":\"\",\"zerolinecolor\":\"white\",\"gridwidth\":2},\"yaxis\":{\"backgroundcolor\":\"#E5ECF6\",\"gridcolor\":\"white\",\"linecolor\":\"white\",\"showbackground\":true,\"ticks\":\"\",\"zerolinecolor\":\"white\",\"gridwidth\":2},\"zaxis\":{\"backgroundcolor\":\"#E5ECF6\",\"gridcolor\":\"white\",\"linecolor\":\"white\",\"showbackground\":true,\"ticks\":\"\",\"zerolinecolor\":\"white\",\"gridwidth\":2}},\"shapedefaults\":{\"line\":{\"color\":\"#2a3f5f\"}},\"annotationdefaults\":{\"arrowcolor\":\"#2a3f5f\",\"arrowhead\":0,\"arrowwidth\":1},\"geo\":{\"bgcolor\":\"white\",\"landcolor\":\"#E5ECF6\",\"subunitcolor\":\"white\",\"showland\":true,\"showlakes\":true,\"lakecolor\":\"white\"},\"title\":{\"x\":0.05},\"mapbox\":{\"style\":\"light\"}}}},                        {\"responsive\": true}                    ).then(function(){\n",
              "                            \n",
              "var gd = document.getElementById('10c0e8f6-3e01-4406-91e7-a3db095760ce');\n",
              "var x = new MutationObserver(function (mutations, observer) {{\n",
              "        var display = window.getComputedStyle(gd).display;\n",
              "        if (!display || display === 'none') {{\n",
              "            console.log([gd, 'removed!']);\n",
              "            Plotly.purge(gd);\n",
              "            observer.disconnect();\n",
              "        }}\n",
              "}});\n",
              "\n",
              "// Listen for the removal of the full notebook cells\n",
              "var notebookContainer = gd.closest('#notebook-container');\n",
              "if (notebookContainer) {{\n",
              "    x.observe(notebookContainer, {childList: true});\n",
              "}}\n",
              "\n",
              "// Listen for the clearing of the current output cell\n",
              "var outputEl = gd.closest('.output');\n",
              "if (outputEl) {{\n",
              "    x.observe(outputEl, {childList: true});\n",
              "}}\n",
              "\n",
              "                        })                };                            </script>        </div>\n",
              "</body>\n",
              "</html>"
            ]
          },
          "metadata": {}
        }
      ]
    },
    {
      "cell_type": "markdown",
      "source": [
        "<font color='crimson'>Put your comment here:</font> <font color='crimson'>As we increase the number of available assets, our possibility curve moves leftwards, indicating a decrease in volatility. This is because our diversification options grow, and allow us to cancel out the risks of various assets.</font>"
      ],
      "metadata": {
        "id": "MXvFmLSwsHvK"
      }
    },
    {
      "cell_type": "markdown",
      "source": [
        "<font color='DarkViolet ' style=\"font-size:25px\"><b>Problem 2 - Testing portfolio performances</b></font>"
      ],
      "metadata": {
        "id": "QGCfbgjPsKqa"
      }
    },
    {
      "cell_type": "markdown",
      "source": [
        "In this problem, use *ret15* constructed in <font color='DarkViolet '><b>Problem 1</b></font>."
      ],
      "metadata": {
        "id": "7rGdoWeYsLnV"
      }
    },
    {
      "cell_type": "markdown",
      "source": [
        "a) Split the data set into two halves. The first half encompasses the first 6 months of 2007 and it is going to be our training sample. The second half encompasses the last 6 months of 2007 and it is going to be our testing sample."
      ],
      "metadata": {
        "id": "DdH-ymXfsMU-"
      }
    },
    {
      "cell_type": "code",
      "source": [
        "#First 6 months\n",
        "ret15Train = ret15['2007-1-4':'2007-6-29']\n",
        "#Rest of the year\n",
        "ret15Test = ret15['2007-7-2':'2007-12-31']\n",
        "#First 6 rows\n",
        "ret15Train.head(),ret15Test.head()"
      ],
      "metadata": {
        "colab": {
          "base_uri": "https://localhost:8080/"
        },
        "id": "vxKKlqTWsM94",
        "outputId": "3a8d9331-e761-4a0c-ac09-b4c919cbed0f"
      },
      "execution_count": 22,
      "outputs": [
        {
          "output_type": "execute_result",
          "data": {
            "text/plain": [
              "(               AAPL      CSCO      INTC      MSFT       AXP        BA  \\\n",
              " Date                                                                    \n",
              " 2007-1-4   0.022196  0.026325  0.040295 -0.001675 -0.007290  0.004037   \n",
              " 2007-1-5  -0.007121  0.000351 -0.003307 -0.005703 -0.013184 -0.004244   \n",
              " 2007-1-8   0.004938  0.005620 -0.004265  0.009784  0.009471 -0.002356   \n",
              " 2007-1-9   0.083070 -0.005589  0.000952  0.001002 -0.006366 -0.010569   \n",
              " 2007-1-10  0.047856  0.007376  0.023300 -0.010013 -0.000674  0.014432   \n",
              " \n",
              "                 CAT       CVX        DD       DIS        GE        GS  \\\n",
              " Date                                                                    \n",
              " 2007-1-4  -0.002616 -0.009722 -0.006933  0.007895 -0.005794 -0.009316   \n",
              " 2007-1-5  -0.012787  0.003842 -0.013347 -0.008123 -0.005033  0.001006   \n",
              " 2007-1-8   0.001162  0.012757  0.000416  0.009067 -0.000266  0.023512   \n",
              " 2007-1-9   0.005474 -0.011477  0.006449 -0.001449  0.000000  0.001718   \n",
              " 2007-1-10 -0.004949 -0.017273 -0.002480  0.001161  0.000266  0.019747   \n",
              " \n",
              "                  HD       IBM       JNJ  \n",
              " Date                                     \n",
              " 2007-1-4  -0.012174  0.010692  0.012500  \n",
              " 2007-1-5  -0.019226 -0.009053 -0.009073  \n",
              " 2007-1-8  -0.007540  0.015192 -0.001651  \n",
              " 2007-1-9  -0.004305  0.011830 -0.003759  \n",
              " 2007-1-10  0.011699 -0.011792 -0.001660  ,\n",
              "               AAPL      CSCO      INTC      MSFT       AXP        BA  \\\n",
              " Date                                                                   \n",
              " 2007-7-2 -0.006391  0.001436  0.022325  0.009162  0.009971  0.006344   \n",
              " 2007-7-3  0.048738  0.007530  0.013185  0.009415  0.012654  0.009094   \n",
              " 2007-7-5  0.043878  0.009609  0.000407 -0.000999 -0.016661  0.007271   \n",
              " 2007-7-6 -0.003390  0.003525  0.003252 -0.000667  0.002118  0.005287   \n",
              " 2007-7-9 -0.014890 -0.000702  0.011345 -0.003337  0.015120  0.010316   \n",
              " \n",
              "                CAT       CVX        DD       DIS        GE        GS  \\\n",
              " Date                                                                   \n",
              " 2007-7-2  0.027458  0.010802  0.018883  0.011131 -0.000522  0.011211   \n",
              " 2007-7-3 -0.030578  0.013858  0.006371  0.000579  0.011500  0.024500   \n",
              " 2007-7-5 -0.006411  0.002780 -0.001343  0.002606 -0.004134 -0.014384   \n",
              " 2007-7-6  0.017034  0.012822 -0.001729 -0.004043 -0.001557  0.010483   \n",
              " 2007-7-9  0.012943  0.020757  0.001539 -0.000870  0.003638 -0.001520   \n",
              " \n",
              "                 HD       IBM       JNJ  \n",
              " Date                                    \n",
              " 2007-7-2  0.000508 -0.002280  0.003733  \n",
              " 2007-7-3 -0.004318  0.014951  0.001617  \n",
              " 2007-7-5  0.016071  0.013792  0.005327  \n",
              " 2007-7-6  0.011800  0.009070 -0.002408  \n",
              " 2007-7-9 -0.001737 -0.000550  0.009496  )"
            ]
          },
          "metadata": {},
          "execution_count": 22
        }
      ]
    },
    {
      "cell_type": "markdown",
      "source": [
        "b) Use the training data set to find the weights of the portfolio that **maximizes Sharpe ratio**. Assume that the risk-free rate is 2.3% per annum."
      ],
      "metadata": {
        "id": "EY6bKRmQsOtE"
      }
    },
    {
      "cell_type": "code",
      "source": [
        "#risk-free rate p.a.\n",
        "rf = 0.023\n",
        "\n",
        "#Sharpe Ratio Max\n",
        "optSharpeMax = (qt.maxSharpe(ret15Train,rf))['w']\n",
        "\n",
        "#show\n",
        "optSharpeMax"
      ],
      "metadata": {
        "colab": {
          "base_uri": "https://localhost:8080/"
        },
        "id": "QBtZCn5BsPXF",
        "outputId": "0cd9d7a2-1f7e-4a58-8531-d6d30a3c5d12"
      },
      "execution_count": 23,
      "outputs": [
        {
          "output_type": "execute_result",
          "data": {
            "text/plain": [
              "array([ 5.39577896e-01, -2.18392897e-01,  5.39871475e-01, -6.30134160e-01,\n",
              "       -3.01316783e-01, -3.24399005e-02,  1.00000000e+00,  9.84577664e-01,\n",
              "        2.29745351e-03, -5.21910607e-01,  3.71100866e-01, -2.10576071e-02,\n",
              "       -3.31399709e-02, -5.03870314e-04, -6.78529560e-01])"
            ]
          },
          "metadata": {},
          "execution_count": 23
        }
      ]
    },
    {
      "cell_type": "markdown",
      "source": [
        "c) From returns in the testing data set **compute the stock prices for add dates in the testing sample**, provided that the **initial prices** (i.e. prices on Monday 2nd of July 2007) for these 15 assets are given in list below:"
      ],
      "metadata": {
        "id": "RquZ9c5SsZaN"
      }
    },
    {
      "cell_type": "code",
      "source": [
        "p0=[3.742,21.0266,16.3368,22.129,49.4245,69.8867,54.1701,51.9247,37.2125,29.3996,23.8742,182.8297,27.9196,70.9251,41.6462]"
      ],
      "metadata": {
        "id": "XmH926PQsaaO"
      },
      "execution_count": 24,
      "outputs": []
    },
    {
      "cell_type": "code",
      "source": [
        "(1 + ret15Test).cumprod()*p0"
      ],
      "metadata": {
        "colab": {
          "base_uri": "https://localhost:8080/",
          "height": 649
        },
        "id": "fZ_VhAx2sbg-",
        "outputId": "fc013444-5865-4869-998f-1a3a8106c757"
      },
      "execution_count": 27,
      "outputs": [
        {
          "output_type": "execute_result",
          "data": {
            "text/plain": [
              "                AAPL       CSCO       INTC       MSFT        AXP         BA  \\\n",
              "Date                                                                          \n",
              "2007-7-2    3.718083  21.056799  16.701522  22.331743  49.917291  70.330028   \n",
              "2007-7-3    3.899296  21.215349  16.921732  22.541996  50.548950  70.969593   \n",
              "2007-7-5    4.070390  21.419198  16.928614  22.519468  49.706740  71.485603   \n",
              "2007-7-6    4.056593  21.494696  16.983666  22.504450  49.812014  71.863523   \n",
              "2007-7-9    3.996189  21.479597  17.176349  22.429360  50.565147  72.604837   \n",
              "...              ...        ...        ...        ...        ...        ...   \n",
              "2007-12-24  6.095621  21.683444  18.961264  27.655306  43.221756  65.882909   \n",
              "2007-12-26  6.100220  21.426747  19.058466  27.677986  42.945734  65.868274   \n",
              "2007-12-27  6.088569  20.981301  18.628001  27.194132  41.484441  65.048578   \n",
              "2007-12-28  6.127203  20.807651  18.579401  27.307534  41.273366  64.587502   \n",
              "2007-12-31  6.073544  20.437704  18.509970  26.914401  42.231324  64.009324   \n",
              "\n",
              "                  CAT        CVX         DD        DIS         GE          GS  \\\n",
              "Date                                                                            \n",
              "2007-7-2    55.657526  52.485616  37.915176  29.726837  23.861727  184.879411   \n",
              "2007-7-3    53.955630  53.212957  38.156720  29.744061  24.136145  189.409041   \n",
              "2007-7-5    53.609717  53.360890  38.105485  29.821564  24.036357  186.684523   \n",
              "2007-7-6    54.522929  54.045083  38.039611  29.701005  23.998936  188.641449   \n",
              "2007-7-9    55.228596  55.166913  38.098163  29.675167  24.086249  188.354660   \n",
              "...               ...        ...        ...        ...        ...         ...   \n",
              "2007-12-24  50.742973  59.043500  33.655050  28.933784  23.765867  181.386855   \n",
              "2007-12-26  51.433975  59.268471  33.535996  28.568193  23.778532  183.392669   \n",
              "2007-12-27  50.763916  58.587298  33.037461  28.228717  23.550562  179.381029   \n",
              "2007-12-28  51.064047  59.280973  32.963050  28.220011  23.645551  179.372571   \n",
              "2007-12-31  50.645256  58.324829  32.806793  28.098149  23.474572  182.004678   \n",
              "\n",
              "                   HD        IBM        JNJ  \n",
              "Date                                         \n",
              "2007-7-2    27.933791  70.763372  41.801646  \n",
              "2007-7-3    27.813174  71.821352  41.869233  \n",
              "2007-7-5    28.260172  72.811945  42.092264  \n",
              "2007-7-6    28.593644  73.472338  41.990887  \n",
              "2007-7-9    28.543978  73.431907  42.389642  \n",
              "...               ...        ...        ...  \n",
              "2007-12-24  19.446404  75.771727  46.466065  \n",
              "2007-12-26  19.432004  75.710645  46.253824  \n",
              "2007-12-27  19.273611  74.380483  46.096362  \n",
              "2007-12-28  19.208813  74.713023  46.130590  \n",
              "2007-12-31  19.396006  73.362502  45.665040  \n",
              "\n",
              "[127 rows x 15 columns]"
            ],
            "text/html": [
              "\n",
              "  <div id=\"df-49b68655-46f8-46be-97e4-250acf6fac28\" class=\"colab-df-container\">\n",
              "    <div>\n",
              "<style scoped>\n",
              "    .dataframe tbody tr th:only-of-type {\n",
              "        vertical-align: middle;\n",
              "    }\n",
              "\n",
              "    .dataframe tbody tr th {\n",
              "        vertical-align: top;\n",
              "    }\n",
              "\n",
              "    .dataframe thead th {\n",
              "        text-align: right;\n",
              "    }\n",
              "</style>\n",
              "<table border=\"1\" class=\"dataframe\">\n",
              "  <thead>\n",
              "    <tr style=\"text-align: right;\">\n",
              "      <th></th>\n",
              "      <th>AAPL</th>\n",
              "      <th>CSCO</th>\n",
              "      <th>INTC</th>\n",
              "      <th>MSFT</th>\n",
              "      <th>AXP</th>\n",
              "      <th>BA</th>\n",
              "      <th>CAT</th>\n",
              "      <th>CVX</th>\n",
              "      <th>DD</th>\n",
              "      <th>DIS</th>\n",
              "      <th>GE</th>\n",
              "      <th>GS</th>\n",
              "      <th>HD</th>\n",
              "      <th>IBM</th>\n",
              "      <th>JNJ</th>\n",
              "    </tr>\n",
              "    <tr>\n",
              "      <th>Date</th>\n",
              "      <th></th>\n",
              "      <th></th>\n",
              "      <th></th>\n",
              "      <th></th>\n",
              "      <th></th>\n",
              "      <th></th>\n",
              "      <th></th>\n",
              "      <th></th>\n",
              "      <th></th>\n",
              "      <th></th>\n",
              "      <th></th>\n",
              "      <th></th>\n",
              "      <th></th>\n",
              "      <th></th>\n",
              "      <th></th>\n",
              "    </tr>\n",
              "  </thead>\n",
              "  <tbody>\n",
              "    <tr>\n",
              "      <th>2007-7-2</th>\n",
              "      <td>3.718083</td>\n",
              "      <td>21.056799</td>\n",
              "      <td>16.701522</td>\n",
              "      <td>22.331743</td>\n",
              "      <td>49.917291</td>\n",
              "      <td>70.330028</td>\n",
              "      <td>55.657526</td>\n",
              "      <td>52.485616</td>\n",
              "      <td>37.915176</td>\n",
              "      <td>29.726837</td>\n",
              "      <td>23.861727</td>\n",
              "      <td>184.879411</td>\n",
              "      <td>27.933791</td>\n",
              "      <td>70.763372</td>\n",
              "      <td>41.801646</td>\n",
              "    </tr>\n",
              "    <tr>\n",
              "      <th>2007-7-3</th>\n",
              "      <td>3.899296</td>\n",
              "      <td>21.215349</td>\n",
              "      <td>16.921732</td>\n",
              "      <td>22.541996</td>\n",
              "      <td>50.548950</td>\n",
              "      <td>70.969593</td>\n",
              "      <td>53.955630</td>\n",
              "      <td>53.212957</td>\n",
              "      <td>38.156720</td>\n",
              "      <td>29.744061</td>\n",
              "      <td>24.136145</td>\n",
              "      <td>189.409041</td>\n",
              "      <td>27.813174</td>\n",
              "      <td>71.821352</td>\n",
              "      <td>41.869233</td>\n",
              "    </tr>\n",
              "    <tr>\n",
              "      <th>2007-7-5</th>\n",
              "      <td>4.070390</td>\n",
              "      <td>21.419198</td>\n",
              "      <td>16.928614</td>\n",
              "      <td>22.519468</td>\n",
              "      <td>49.706740</td>\n",
              "      <td>71.485603</td>\n",
              "      <td>53.609717</td>\n",
              "      <td>53.360890</td>\n",
              "      <td>38.105485</td>\n",
              "      <td>29.821564</td>\n",
              "      <td>24.036357</td>\n",
              "      <td>186.684523</td>\n",
              "      <td>28.260172</td>\n",
              "      <td>72.811945</td>\n",
              "      <td>42.092264</td>\n",
              "    </tr>\n",
              "    <tr>\n",
              "      <th>2007-7-6</th>\n",
              "      <td>4.056593</td>\n",
              "      <td>21.494696</td>\n",
              "      <td>16.983666</td>\n",
              "      <td>22.504450</td>\n",
              "      <td>49.812014</td>\n",
              "      <td>71.863523</td>\n",
              "      <td>54.522929</td>\n",
              "      <td>54.045083</td>\n",
              "      <td>38.039611</td>\n",
              "      <td>29.701005</td>\n",
              "      <td>23.998936</td>\n",
              "      <td>188.641449</td>\n",
              "      <td>28.593644</td>\n",
              "      <td>73.472338</td>\n",
              "      <td>41.990887</td>\n",
              "    </tr>\n",
              "    <tr>\n",
              "      <th>2007-7-9</th>\n",
              "      <td>3.996189</td>\n",
              "      <td>21.479597</td>\n",
              "      <td>17.176349</td>\n",
              "      <td>22.429360</td>\n",
              "      <td>50.565147</td>\n",
              "      <td>72.604837</td>\n",
              "      <td>55.228596</td>\n",
              "      <td>55.166913</td>\n",
              "      <td>38.098163</td>\n",
              "      <td>29.675167</td>\n",
              "      <td>24.086249</td>\n",
              "      <td>188.354660</td>\n",
              "      <td>28.543978</td>\n",
              "      <td>73.431907</td>\n",
              "      <td>42.389642</td>\n",
              "    </tr>\n",
              "    <tr>\n",
              "      <th>...</th>\n",
              "      <td>...</td>\n",
              "      <td>...</td>\n",
              "      <td>...</td>\n",
              "      <td>...</td>\n",
              "      <td>...</td>\n",
              "      <td>...</td>\n",
              "      <td>...</td>\n",
              "      <td>...</td>\n",
              "      <td>...</td>\n",
              "      <td>...</td>\n",
              "      <td>...</td>\n",
              "      <td>...</td>\n",
              "      <td>...</td>\n",
              "      <td>...</td>\n",
              "      <td>...</td>\n",
              "    </tr>\n",
              "    <tr>\n",
              "      <th>2007-12-24</th>\n",
              "      <td>6.095621</td>\n",
              "      <td>21.683444</td>\n",
              "      <td>18.961264</td>\n",
              "      <td>27.655306</td>\n",
              "      <td>43.221756</td>\n",
              "      <td>65.882909</td>\n",
              "      <td>50.742973</td>\n",
              "      <td>59.043500</td>\n",
              "      <td>33.655050</td>\n",
              "      <td>28.933784</td>\n",
              "      <td>23.765867</td>\n",
              "      <td>181.386855</td>\n",
              "      <td>19.446404</td>\n",
              "      <td>75.771727</td>\n",
              "      <td>46.466065</td>\n",
              "    </tr>\n",
              "    <tr>\n",
              "      <th>2007-12-26</th>\n",
              "      <td>6.100220</td>\n",
              "      <td>21.426747</td>\n",
              "      <td>19.058466</td>\n",
              "      <td>27.677986</td>\n",
              "      <td>42.945734</td>\n",
              "      <td>65.868274</td>\n",
              "      <td>51.433975</td>\n",
              "      <td>59.268471</td>\n",
              "      <td>33.535996</td>\n",
              "      <td>28.568193</td>\n",
              "      <td>23.778532</td>\n",
              "      <td>183.392669</td>\n",
              "      <td>19.432004</td>\n",
              "      <td>75.710645</td>\n",
              "      <td>46.253824</td>\n",
              "    </tr>\n",
              "    <tr>\n",
              "      <th>2007-12-27</th>\n",
              "      <td>6.088569</td>\n",
              "      <td>20.981301</td>\n",
              "      <td>18.628001</td>\n",
              "      <td>27.194132</td>\n",
              "      <td>41.484441</td>\n",
              "      <td>65.048578</td>\n",
              "      <td>50.763916</td>\n",
              "      <td>58.587298</td>\n",
              "      <td>33.037461</td>\n",
              "      <td>28.228717</td>\n",
              "      <td>23.550562</td>\n",
              "      <td>179.381029</td>\n",
              "      <td>19.273611</td>\n",
              "      <td>74.380483</td>\n",
              "      <td>46.096362</td>\n",
              "    </tr>\n",
              "    <tr>\n",
              "      <th>2007-12-28</th>\n",
              "      <td>6.127203</td>\n",
              "      <td>20.807651</td>\n",
              "      <td>18.579401</td>\n",
              "      <td>27.307534</td>\n",
              "      <td>41.273366</td>\n",
              "      <td>64.587502</td>\n",
              "      <td>51.064047</td>\n",
              "      <td>59.280973</td>\n",
              "      <td>32.963050</td>\n",
              "      <td>28.220011</td>\n",
              "      <td>23.645551</td>\n",
              "      <td>179.372571</td>\n",
              "      <td>19.208813</td>\n",
              "      <td>74.713023</td>\n",
              "      <td>46.130590</td>\n",
              "    </tr>\n",
              "    <tr>\n",
              "      <th>2007-12-31</th>\n",
              "      <td>6.073544</td>\n",
              "      <td>20.437704</td>\n",
              "      <td>18.509970</td>\n",
              "      <td>26.914401</td>\n",
              "      <td>42.231324</td>\n",
              "      <td>64.009324</td>\n",
              "      <td>50.645256</td>\n",
              "      <td>58.324829</td>\n",
              "      <td>32.806793</td>\n",
              "      <td>28.098149</td>\n",
              "      <td>23.474572</td>\n",
              "      <td>182.004678</td>\n",
              "      <td>19.396006</td>\n",
              "      <td>73.362502</td>\n",
              "      <td>45.665040</td>\n",
              "    </tr>\n",
              "  </tbody>\n",
              "</table>\n",
              "<p>127 rows × 15 columns</p>\n",
              "</div>\n",
              "    <div class=\"colab-df-buttons\">\n",
              "\n",
              "  <div class=\"colab-df-container\">\n",
              "    <button class=\"colab-df-convert\" onclick=\"convertToInteractive('df-49b68655-46f8-46be-97e4-250acf6fac28')\"\n",
              "            title=\"Convert this dataframe to an interactive table.\"\n",
              "            style=\"display:none;\">\n",
              "\n",
              "  <svg xmlns=\"http://www.w3.org/2000/svg\" height=\"24px\" viewBox=\"0 -960 960 960\">\n",
              "    <path d=\"M120-120v-720h720v720H120Zm60-500h600v-160H180v160Zm220 220h160v-160H400v160Zm0 220h160v-160H400v160ZM180-400h160v-160H180v160Zm440 0h160v-160H620v160ZM180-180h160v-160H180v160Zm440 0h160v-160H620v160Z\"/>\n",
              "  </svg>\n",
              "    </button>\n",
              "\n",
              "  <style>\n",
              "    .colab-df-container {\n",
              "      display:flex;\n",
              "      gap: 12px;\n",
              "    }\n",
              "\n",
              "    .colab-df-convert {\n",
              "      background-color: #E8F0FE;\n",
              "      border: none;\n",
              "      border-radius: 50%;\n",
              "      cursor: pointer;\n",
              "      display: none;\n",
              "      fill: #1967D2;\n",
              "      height: 32px;\n",
              "      padding: 0 0 0 0;\n",
              "      width: 32px;\n",
              "    }\n",
              "\n",
              "    .colab-df-convert:hover {\n",
              "      background-color: #E2EBFA;\n",
              "      box-shadow: 0px 1px 2px rgba(60, 64, 67, 0.3), 0px 1px 3px 1px rgba(60, 64, 67, 0.15);\n",
              "      fill: #174EA6;\n",
              "    }\n",
              "\n",
              "    .colab-df-buttons div {\n",
              "      margin-bottom: 4px;\n",
              "    }\n",
              "\n",
              "    [theme=dark] .colab-df-convert {\n",
              "      background-color: #3B4455;\n",
              "      fill: #D2E3FC;\n",
              "    }\n",
              "\n",
              "    [theme=dark] .colab-df-convert:hover {\n",
              "      background-color: #434B5C;\n",
              "      box-shadow: 0px 1px 3px 1px rgba(0, 0, 0, 0.15);\n",
              "      filter: drop-shadow(0px 1px 2px rgba(0, 0, 0, 0.3));\n",
              "      fill: #FFFFFF;\n",
              "    }\n",
              "  </style>\n",
              "\n",
              "    <script>\n",
              "      const buttonEl =\n",
              "        document.querySelector('#df-49b68655-46f8-46be-97e4-250acf6fac28 button.colab-df-convert');\n",
              "      buttonEl.style.display =\n",
              "        google.colab.kernel.accessAllowed ? 'block' : 'none';\n",
              "\n",
              "      async function convertToInteractive(key) {\n",
              "        const element = document.querySelector('#df-49b68655-46f8-46be-97e4-250acf6fac28');\n",
              "        const dataTable =\n",
              "          await google.colab.kernel.invokeFunction('convertToInteractive',\n",
              "                                                    [key], {});\n",
              "        if (!dataTable) return;\n",
              "\n",
              "        const docLinkHtml = 'Like what you see? Visit the ' +\n",
              "          '<a target=\"_blank\" href=https://colab.research.google.com/notebooks/data_table.ipynb>data table notebook</a>'\n",
              "          + ' to learn more about interactive tables.';\n",
              "        element.innerHTML = '';\n",
              "        dataTable['output_type'] = 'display_data';\n",
              "        await google.colab.output.renderOutput(dataTable, element);\n",
              "        const docLink = document.createElement('div');\n",
              "        docLink.innerHTML = docLinkHtml;\n",
              "        element.appendChild(docLink);\n",
              "      }\n",
              "    </script>\n",
              "  </div>\n",
              "\n",
              "\n",
              "<div id=\"df-0044fed5-057e-49b9-89ec-778917230cf8\">\n",
              "  <button class=\"colab-df-quickchart\" onclick=\"quickchart('df-0044fed5-057e-49b9-89ec-778917230cf8')\"\n",
              "            title=\"Suggest charts.\"\n",
              "            style=\"display:none;\">\n",
              "\n",
              "<svg xmlns=\"http://www.w3.org/2000/svg\" height=\"24px\"viewBox=\"0 0 24 24\"\n",
              "     width=\"24px\">\n",
              "    <g>\n",
              "        <path d=\"M19 3H5c-1.1 0-2 .9-2 2v14c0 1.1.9 2 2 2h14c1.1 0 2-.9 2-2V5c0-1.1-.9-2-2-2zM9 17H7v-7h2v7zm4 0h-2V7h2v10zm4 0h-2v-4h2v4z\"/>\n",
              "    </g>\n",
              "</svg>\n",
              "  </button>\n",
              "\n",
              "<style>\n",
              "  .colab-df-quickchart {\n",
              "    background-color: #E8F0FE;\n",
              "    border: none;\n",
              "    border-radius: 50%;\n",
              "    cursor: pointer;\n",
              "    display: none;\n",
              "    fill: #1967D2;\n",
              "    height: 32px;\n",
              "    padding: 0 0 0 0;\n",
              "    width: 32px;\n",
              "  }\n",
              "\n",
              "  .colab-df-quickchart:hover {\n",
              "    background-color: #E2EBFA;\n",
              "    box-shadow: 0px 1px 2px rgba(60, 64, 67, 0.3), 0px 1px 3px 1px rgba(60, 64, 67, 0.15);\n",
              "    fill: #174EA6;\n",
              "  }\n",
              "\n",
              "  [theme=dark] .colab-df-quickchart {\n",
              "    background-color: #3B4455;\n",
              "    fill: #D2E3FC;\n",
              "  }\n",
              "\n",
              "  [theme=dark] .colab-df-quickchart:hover {\n",
              "    background-color: #434B5C;\n",
              "    box-shadow: 0px 1px 3px 1px rgba(0, 0, 0, 0.15);\n",
              "    filter: drop-shadow(0px 1px 2px rgba(0, 0, 0, 0.3));\n",
              "    fill: #FFFFFF;\n",
              "  }\n",
              "</style>\n",
              "\n",
              "  <script>\n",
              "    async function quickchart(key) {\n",
              "      const charts = await google.colab.kernel.invokeFunction(\n",
              "          'suggestCharts', [key], {});\n",
              "    }\n",
              "    (() => {\n",
              "      let quickchartButtonEl =\n",
              "        document.querySelector('#df-0044fed5-057e-49b9-89ec-778917230cf8 button');\n",
              "      quickchartButtonEl.style.display =\n",
              "        google.colab.kernel.accessAllowed ? 'block' : 'none';\n",
              "    })();\n",
              "  </script>\n",
              "</div>\n",
              "    </div>\n",
              "  </div>\n"
            ]
          },
          "metadata": {},
          "execution_count": 27
        }
      ]
    },
    {
      "cell_type": "markdown",
      "source": [
        "d) Assume that you have decided to **invest 100 000 USD** into the **optimal portfolio** determined in part b) of this problem. In addition, assume that you have decided to be a **static investor**, i.e. to **buy a fixed number of stocks** which corresponds to this portfolio and **to hold it until the end of the year** (without any trading in-between these two moments).\n",
        "\n",
        "**Compute** the <font color='DodgerBlue'><b>pd.Series</b></font> of **portfolio's values** i.e. historical evolution of your wealth in 2007 which would occurred if you have invested in this portfolio."
      ],
      "metadata": {
        "id": "RSZNi43xscpH"
      }
    },
    {
      "cell_type": "code",
      "source": [
        "#Initial Wealth\n",
        "W0 = 100_000\n",
        "\n",
        "#Initial investment into each asset\n",
        "s0=(optSharpeMax*W0)\n",
        "\n",
        "#Calculation compounding returns for each assets\n",
        "V15Static = (1+ ret15).cumprod()*s0\n",
        "\n",
        "#Sum returns for all assets to gain portfolio's total value\n",
        "stStatic = V15Static.sum(axis=1)\n",
        "stStatic"
      ],
      "metadata": {
        "colab": {
          "base_uri": "https://localhost:8080/"
        },
        "id": "IZ2EWkE0sdyO",
        "outputId": "b465e2c9-6e03-4157-fd5d-a8f29e702a07"
      },
      "execution_count": 29,
      "outputs": [
        {
          "output_type": "execute_result",
          "data": {
            "text/plain": [
              "Date\n",
              "2007-1-4      100473.931336\n",
              "2007-1-5      100676.966951\n",
              "2007-1-8      100665.747766\n",
              "2007-1-9      105321.644843\n",
              "2007-1-10     107714.218669\n",
              "                  ...      \n",
              "2007-12-24    236373.714582\n",
              "2007-12-26    240373.816914\n",
              "2007-12-27    238641.913296\n",
              "2007-12-28    241699.469573\n",
              "2007-12-31    238662.156698\n",
              "Length: 250, dtype: float64"
            ]
          },
          "metadata": {},
          "execution_count": 29
        }
      ]
    },
    {
      "cell_type": "markdown",
      "source": [
        "e) Assume again that you have decided to **invest 100 000 USD** into **optimal portfolio** determined in part b) of this problem, but now you want to **keep weights of your investment constant all the time**. In order for you to do so, you need to keep trading every day.\n",
        "\n",
        "**Compute** the <font color='DodgerBlue'><b>pd.Series</b></font> of **portfolio's values** for this strategy as well."
      ],
      "metadata": {
        "id": "3HeI2ov1sfa1"
      }
    },
    {
      "cell_type": "code",
      "source": [
        "#Initial Wealth\n",
        "W0= 100_000\n",
        "\n",
        "#using the vector product of weights and return\n",
        "V15Dynamic = ret15@optSharpeMax\n",
        "\n",
        "#Showing\n",
        "stDynamic =(1+ V15Dynamic).cumprod()*W0\n",
        "stDynamic"
      ],
      "metadata": {
        "colab": {
          "base_uri": "https://localhost:8080/"
        },
        "id": "Lb4lmf_psgb5",
        "outputId": "b200bb2e-e378-48d3-e865-d362d333e408"
      },
      "execution_count": 31,
      "outputs": [
        {
          "output_type": "execute_result",
          "data": {
            "text/plain": [
              "Date\n",
              "2007-1-4      100473.931336\n",
              "2007-1-5      100686.271621\n",
              "2007-1-8      100681.424390\n",
              "2007-1-9      105290.916521\n",
              "2007-1-10     107469.935541\n",
              "                  ...      \n",
              "2007-12-24    267671.385185\n",
              "2007-12-26    276830.987981\n",
              "2007-12-27    275254.176879\n",
              "2007-12-28    281251.073239\n",
              "2007-12-31    275966.758080\n",
              "Length: 250, dtype: float64"
            ]
          },
          "metadata": {},
          "execution_count": 31
        }
      ]
    },
    {
      "cell_type": "markdown",
      "source": [
        "f) Compare ex-post performance of this two strategies **graphically**. **Comment** your findings."
      ],
      "metadata": {
        "id": "UopYFOIwsg0j"
      }
    },
    {
      "cell_type": "code",
      "source": [
        "#Preparing graph\n",
        "figPortfolio = go.Figure()\n",
        "\n",
        "#adding values\n",
        "figPortfolio.add_trace(\n",
        "    go.Scatter(x=stStatic.index,y=stStatic, name = 'Static Strategy'),\n",
        ")\n",
        "figPortfolio.add_trace(\n",
        "    go.Scatter(x=stDynamic.index,y=stDynamic, name = 'Dynamic Strategy'),\n",
        ")\n",
        "\n",
        "#Showing the graph\n",
        "figPortfolio.show()"
      ],
      "metadata": {
        "colab": {
          "base_uri": "https://localhost:8080/",
          "height": 542
        },
        "id": "WQRLjVqusiA3",
        "outputId": "c17e869a-747d-4088-8a44-735e8800e18d"
      },
      "execution_count": 32,
      "outputs": [
        {
          "output_type": "display_data",
          "data": {
            "text/html": [
              "<html>\n",
              "<head><meta charset=\"utf-8\" /></head>\n",
              "<body>\n",
              "    <div>            <script src=\"https://cdnjs.cloudflare.com/ajax/libs/mathjax/2.7.5/MathJax.js?config=TeX-AMS-MML_SVG\"></script><script type=\"text/javascript\">if (window.MathJax && window.MathJax.Hub && window.MathJax.Hub.Config) {window.MathJax.Hub.Config({SVG: {font: \"STIX-Web\"}});}</script>                <script type=\"text/javascript\">window.PlotlyConfig = {MathJaxConfig: 'local'};</script>\n",
              "        <script charset=\"utf-8\" src=\"https://cdn.plot.ly/plotly-2.24.1.min.js\"></script>                <div id=\"291e667a-c769-43e7-b671-303da24f6e90\" class=\"plotly-graph-div\" style=\"height:525px; width:100%;\"></div>            <script type=\"text/javascript\">                                    window.PLOTLYENV=window.PLOTLYENV || {};                                    if (document.getElementById(\"291e667a-c769-43e7-b671-303da24f6e90\")) {                    Plotly.newPlot(                        \"291e667a-c769-43e7-b671-303da24f6e90\",                        [{\"name\":\"Static Strategy\",\"x\":[\"2007-1-4\",\"2007-1-5\",\"2007-1-8\",\"2007-1-9\",\"2007-1-10\",\"2007-1-11\",\"2007-1-12\",\"2007-1-16\",\"2007-1-17\",\"2007-1-18\",\"2007-1-19\",\"2007-1-22\",\"2007-1-23\",\"2007-1-24\",\"2007-1-25\",\"2007-1-26\",\"2007-1-29\",\"2007-1-30\",\"2007-1-31\",\"2007-2-1\",\"2007-2-2\",\"2007-2-5\",\"2007-2-6\",\"2007-2-7\",\"2007-2-8\",\"2007-2-9\",\"2007-2-12\",\"2007-2-13\",\"2007-2-14\",\"2007-2-15\",\"2007-2-16\",\"2007-2-20\",\"2007-2-21\",\"2007-2-22\",\"2007-2-23\",\"2007-2-26\",\"2007-2-27\",\"2007-2-28\",\"2007-3-1\",\"2007-3-2\",\"2007-3-5\",\"2007-3-6\",\"2007-3-7\",\"2007-3-8\",\"2007-3-9\",\"2007-3-12\",\"2007-3-13\",\"2007-3-14\",\"2007-3-15\",\"2007-3-16\",\"2007-3-19\",\"2007-3-20\",\"2007-3-21\",\"2007-3-22\",\"2007-3-23\",\"2007-3-26\",\"2007-3-27\",\"2007-3-28\",\"2007-3-29\",\"2007-3-30\",\"2007-4-2\",\"2007-4-3\",\"2007-4-4\",\"2007-4-5\",\"2007-4-9\",\"2007-4-10\",\"2007-4-11\",\"2007-4-12\",\"2007-4-13\",\"2007-4-16\",\"2007-4-17\",\"2007-4-18\",\"2007-4-19\",\"2007-4-20\",\"2007-4-23\",\"2007-4-24\",\"2007-4-25\",\"2007-4-26\",\"2007-4-27\",\"2007-4-30\",\"2007-5-1\",\"2007-5-2\",\"2007-5-3\",\"2007-5-4\",\"2007-5-7\",\"2007-5-8\",\"2007-5-9\",\"2007-5-10\",\"2007-5-11\",\"2007-5-14\",\"2007-5-15\",\"2007-5-16\",\"2007-5-17\",\"2007-5-18\",\"2007-5-21\",\"2007-5-22\",\"2007-5-23\",\"2007-5-24\",\"2007-5-25\",\"2007-5-29\",\"2007-5-30\",\"2007-5-31\",\"2007-6-1\",\"2007-6-4\",\"2007-6-5\",\"2007-6-6\",\"2007-6-7\",\"2007-6-8\",\"2007-6-11\",\"2007-6-12\",\"2007-6-13\",\"2007-6-14\",\"2007-6-15\",\"2007-6-18\",\"2007-6-19\",\"2007-6-20\",\"2007-6-21\",\"2007-6-22\",\"2007-6-25\",\"2007-6-26\",\"2007-6-27\",\"2007-6-28\",\"2007-6-29\",\"2007-7-2\",\"2007-7-3\",\"2007-7-5\",\"2007-7-6\",\"2007-7-9\",\"2007-7-10\",\"2007-7-11\",\"2007-7-12\",\"2007-7-13\",\"2007-7-16\",\"2007-7-17\",\"2007-7-18\",\"2007-7-19\",\"2007-7-20\",\"2007-7-23\",\"2007-7-24\",\"2007-7-25\",\"2007-7-26\",\"2007-7-27\",\"2007-7-30\",\"2007-7-31\",\"2007-8-1\",\"2007-8-2\",\"2007-8-3\",\"2007-8-6\",\"2007-8-7\",\"2007-8-8\",\"2007-8-9\",\"2007-8-10\",\"2007-8-13\",\"2007-8-14\",\"2007-8-15\",\"2007-8-16\",\"2007-8-17\",\"2007-8-20\",\"2007-8-21\",\"2007-8-22\",\"2007-8-23\",\"2007-8-24\",\"2007-8-27\",\"2007-8-28\",\"2007-8-29\",\"2007-8-30\",\"2007-8-31\",\"2007-9-4\",\"2007-9-5\",\"2007-9-6\",\"2007-9-7\",\"2007-9-10\",\"2007-9-11\",\"2007-9-12\",\"2007-9-13\",\"2007-9-14\",\"2007-9-17\",\"2007-9-18\",\"2007-9-19\",\"2007-9-20\",\"2007-9-21\",\"2007-9-24\",\"2007-9-25\",\"2007-9-26\",\"2007-9-27\",\"2007-9-28\",\"2007-10-1\",\"2007-10-2\",\"2007-10-3\",\"2007-10-4\",\"2007-10-5\",\"2007-10-8\",\"2007-10-9\",\"2007-10-10\",\"2007-10-11\",\"2007-10-12\",\"2007-10-15\",\"2007-10-16\",\"2007-10-17\",\"2007-10-18\",\"2007-10-19\",\"2007-10-22\",\"2007-10-23\",\"2007-10-24\",\"2007-10-25\",\"2007-10-26\",\"2007-10-29\",\"2007-10-30\",\"2007-10-31\",\"2007-11-1\",\"2007-11-2\",\"2007-11-5\",\"2007-11-6\",\"2007-11-7\",\"2007-11-8\",\"2007-11-9\",\"2007-11-12\",\"2007-11-13\",\"2007-11-14\",\"2007-11-15\",\"2007-11-16\",\"2007-11-19\",\"2007-11-20\",\"2007-11-21\",\"2007-11-23\",\"2007-11-26\",\"2007-11-27\",\"2007-11-28\",\"2007-11-29\",\"2007-11-30\",\"2007-12-3\",\"2007-12-4\",\"2007-12-5\",\"2007-12-6\",\"2007-12-7\",\"2007-12-10\",\"2007-12-11\",\"2007-12-12\",\"2007-12-13\",\"2007-12-14\",\"2007-12-17\",\"2007-12-18\",\"2007-12-19\",\"2007-12-20\",\"2007-12-21\",\"2007-12-24\",\"2007-12-26\",\"2007-12-27\",\"2007-12-28\",\"2007-12-31\"],\"y\":[100473.9313357221,100676.96695104947,100665.74776615275,105321.6448427489,107714.21866895542,103139.42421208834,103508.4693752093,105123.26006640017,103178.59290601613,97976.40567059033,98610.31147134803,95953.36770018408,99111.26352764096,98902.75786874653,99279.4743123691,101432.76684860025,104016.45559513512,106866.7487862564,106752.79144659106,111092.94026689776,111810.12214167372,111255.49681219542,111555.47744724511,113289.72471832827,114748.03838619964,112816.43950667919,112945.01386939477,112706.51340405583,114293.573590826,115450.80863171218,115512.31747210668,115389.56286330064,116285.34154391644,117129.88371967991,117060.61240545117,117925.54819317258,113367.64767293056,109723.93471583803,109206.00940115191,107459.5490642902,108295.90672446747,110202.18198351987,111220.18898059824,111712.90823273527,111503.26378082827,114937.04963623954,114408.42335851936,114761.08821866385,115064.4826662342,113730.83791837556,115830.08877405108,116922.89015547073,120185.58489520193,123914.63541693607,127097.44250196882,129264.02757881364,130853.72391616218,128914.95059170519,130057.07233054828,129194.95616061031,131115.59255649243,131566.89438787903,130075.48810540748,130542.76129215013,129954.0957969066,133802.71904674245,131995.57499358314,131903.77015565397,129120.01749428303,129800.1052687955,128973.88787181907,133234.8236931236,131359.55946805218,137697.11175614118,138549.21558526176,140190.27923043215,143030.7980890636,145456.2173183355,145545.30869209394,143650.81306875776,143736.27178342862,143437.95836926549,143473.9917260119,143479.14904832296,145112.72043600684,147472.6382632738,152992.25561635912,151670.7219622949,155846.27252498624,159113.24059098266,157684.17450194637,156371.2983726455,157617.44104232872,160872.6231933729,160693.95185919706,164068.59605902887,162977.5401971956,158604.13038053806,162741.64661941578,162344.2935990766,169423.29690304506,171347.8310935101,170601.38636453348,172510.51423046502,173758.92812273596,174436.42718316117,173827.10327027872,177004.18038190136,176048.4005195377,176754.86778185036,176855.71738011978,180959.05557800172,184953.29699572606,189872.50294576032,190440.80237227786,186137.46184082585,190429.86966259585,188894.00635532502,189213.2414912363,185561.52629764442,187379.84455872132,187040.72163768514,186656.36361918235,190594.5552763482,191934.4556945366,194753.6725747504,198550.306922802,201586.90099409095,207601.54393431894,209364.43899760064,217210.6886831616,222138.05048660573,222033.47007390577,221580.89974316885,220918.59419015225,222197.83395670296,217019.54490397102,214855.3252332215,207795.60617277108,208463.27080499154,207821.92768202207,202017.79822058737,203041.2165557049,200441.7381192702,201520.86717436035,200655.36002902393,194012.01955017215,197395.84850579553,197943.265979351,198191.66147005657,188239.17694947246,189124.48789579762,191053.00131259294,189782.57563361834,182094.7166941157,176676.95387187751,183753.31270618617,187861.51128191635,189802.57784932933,195872.15457122063,195575.21377674647,201137.54010233365,198173.4921424835,190129.9225940122,199179.5788372195,201930.97451536913,205763.3801403558,211456.86566583999,205211.34872661944,205146.0572733066,198420.7931109966,200466.79578670903,201362.00046328214,200454.94333789244,201351.44566793955,203024.77120293106,205372.3773501247,214478.1953275644,216726.79555921408,217126.02558299984,220618.17163644652,221993.9510043273,218355.35581826034,218136.9093990412,221567.4997646935,222709.60513169155,227409.48036702216,226362.89241475053,221911.34158091684,220531.06122893823,224905.4747958656,230566.04484786894,232757.73845748007,229449.4360473074,221959.10676369426,225135.66726190556,226243.52220818953,228359.38610305317,230687.03402789216,233140.97681913376,223658.8150775709,223869.34245844968,231985.73655237965,232330.2467555171,229404.5978995333,224293.9303578948,224791.66246647958,219878.1904307523,223746.75995803386,218066.19504433943,220266.26359678485,218268.5465353215,228241.02843910415,221779.66561366693,215431.97244477857,203828.85245627398,193091.54857710312,203444.39390419307,201890.10498749628,196224.1165987442,197493.27641851822,194786.8755689947,201663.48231480212,197945.46319110482,202419.39704349736,199843.0073661268,203937.3487079639,212604.62691068978,217165.02470074192,216438.75897299076,215981.07240924216,216949.910773448,223068.54064965958,232160.37595350452,235546.0150455092,240410.43412920233,230916.8936372745,234336.1564770231,234914.21315311504,228936.22788313802,219243.8827321532,219822.91013997316,221095.97957922803,226030.89313859635,233586.42341744262,236373.71458214222,240373.81691369286,238641.9132955884,241699.4695725916,238662.15669790795],\"type\":\"scatter\"},{\"name\":\"Dynamic Strategy\",\"x\":[\"2007-1-4\",\"2007-1-5\",\"2007-1-8\",\"2007-1-9\",\"2007-1-10\",\"2007-1-11\",\"2007-1-12\",\"2007-1-16\",\"2007-1-17\",\"2007-1-18\",\"2007-1-19\",\"2007-1-22\",\"2007-1-23\",\"2007-1-24\",\"2007-1-25\",\"2007-1-26\",\"2007-1-29\",\"2007-1-30\",\"2007-1-31\",\"2007-2-1\",\"2007-2-2\",\"2007-2-5\",\"2007-2-6\",\"2007-2-7\",\"2007-2-8\",\"2007-2-9\",\"2007-2-12\",\"2007-2-13\",\"2007-2-14\",\"2007-2-15\",\"2007-2-16\",\"2007-2-20\",\"2007-2-21\",\"2007-2-22\",\"2007-2-23\",\"2007-2-26\",\"2007-2-27\",\"2007-2-28\",\"2007-3-1\",\"2007-3-2\",\"2007-3-5\",\"2007-3-6\",\"2007-3-7\",\"2007-3-8\",\"2007-3-9\",\"2007-3-12\",\"2007-3-13\",\"2007-3-14\",\"2007-3-15\",\"2007-3-16\",\"2007-3-19\",\"2007-3-20\",\"2007-3-21\",\"2007-3-22\",\"2007-3-23\",\"2007-3-26\",\"2007-3-27\",\"2007-3-28\",\"2007-3-29\",\"2007-3-30\",\"2007-4-2\",\"2007-4-3\",\"2007-4-4\",\"2007-4-5\",\"2007-4-9\",\"2007-4-10\",\"2007-4-11\",\"2007-4-12\",\"2007-4-13\",\"2007-4-16\",\"2007-4-17\",\"2007-4-18\",\"2007-4-19\",\"2007-4-20\",\"2007-4-23\",\"2007-4-24\",\"2007-4-25\",\"2007-4-26\",\"2007-4-27\",\"2007-4-30\",\"2007-5-1\",\"2007-5-2\",\"2007-5-3\",\"2007-5-4\",\"2007-5-7\",\"2007-5-8\",\"2007-5-9\",\"2007-5-10\",\"2007-5-11\",\"2007-5-14\",\"2007-5-15\",\"2007-5-16\",\"2007-5-17\",\"2007-5-18\",\"2007-5-21\",\"2007-5-22\",\"2007-5-23\",\"2007-5-24\",\"2007-5-25\",\"2007-5-29\",\"2007-5-30\",\"2007-5-31\",\"2007-6-1\",\"2007-6-4\",\"2007-6-5\",\"2007-6-6\",\"2007-6-7\",\"2007-6-8\",\"2007-6-11\",\"2007-6-12\",\"2007-6-13\",\"2007-6-14\",\"2007-6-15\",\"2007-6-18\",\"2007-6-19\",\"2007-6-20\",\"2007-6-21\",\"2007-6-22\",\"2007-6-25\",\"2007-6-26\",\"2007-6-27\",\"2007-6-28\",\"2007-6-29\",\"2007-7-2\",\"2007-7-3\",\"2007-7-5\",\"2007-7-6\",\"2007-7-9\",\"2007-7-10\",\"2007-7-11\",\"2007-7-12\",\"2007-7-13\",\"2007-7-16\",\"2007-7-17\",\"2007-7-18\",\"2007-7-19\",\"2007-7-20\",\"2007-7-23\",\"2007-7-24\",\"2007-7-25\",\"2007-7-26\",\"2007-7-27\",\"2007-7-30\",\"2007-7-31\",\"2007-8-1\",\"2007-8-2\",\"2007-8-3\",\"2007-8-6\",\"2007-8-7\",\"2007-8-8\",\"2007-8-9\",\"2007-8-10\",\"2007-8-13\",\"2007-8-14\",\"2007-8-15\",\"2007-8-16\",\"2007-8-17\",\"2007-8-20\",\"2007-8-21\",\"2007-8-22\",\"2007-8-23\",\"2007-8-24\",\"2007-8-27\",\"2007-8-28\",\"2007-8-29\",\"2007-8-30\",\"2007-8-31\",\"2007-9-4\",\"2007-9-5\",\"2007-9-6\",\"2007-9-7\",\"2007-9-10\",\"2007-9-11\",\"2007-9-12\",\"2007-9-13\",\"2007-9-14\",\"2007-9-17\",\"2007-9-18\",\"2007-9-19\",\"2007-9-20\",\"2007-9-21\",\"2007-9-24\",\"2007-9-25\",\"2007-9-26\",\"2007-9-27\",\"2007-9-28\",\"2007-10-1\",\"2007-10-2\",\"2007-10-3\",\"2007-10-4\",\"2007-10-5\",\"2007-10-8\",\"2007-10-9\",\"2007-10-10\",\"2007-10-11\",\"2007-10-12\",\"2007-10-15\",\"2007-10-16\",\"2007-10-17\",\"2007-10-18\",\"2007-10-19\",\"2007-10-22\",\"2007-10-23\",\"2007-10-24\",\"2007-10-25\",\"2007-10-26\",\"2007-10-29\",\"2007-10-30\",\"2007-10-31\",\"2007-11-1\",\"2007-11-2\",\"2007-11-5\",\"2007-11-6\",\"2007-11-7\",\"2007-11-8\",\"2007-11-9\",\"2007-11-12\",\"2007-11-13\",\"2007-11-14\",\"2007-11-15\",\"2007-11-16\",\"2007-11-19\",\"2007-11-20\",\"2007-11-21\",\"2007-11-23\",\"2007-11-26\",\"2007-11-27\",\"2007-11-28\",\"2007-11-29\",\"2007-11-30\",\"2007-12-3\",\"2007-12-4\",\"2007-12-5\",\"2007-12-6\",\"2007-12-7\",\"2007-12-10\",\"2007-12-11\",\"2007-12-12\",\"2007-12-13\",\"2007-12-14\",\"2007-12-17\",\"2007-12-18\",\"2007-12-19\",\"2007-12-20\",\"2007-12-21\",\"2007-12-24\",\"2007-12-26\",\"2007-12-27\",\"2007-12-28\",\"2007-12-31\"],\"y\":[100473.93133572207,100686.27162064212,100681.4243895808,105290.9165210036,107469.93554053394,102564.35910388126,103117.90976026765,104484.56602724685,103017.11827580935,98198.2350772166,98810.42867908353,96163.2919974291,99358.69451150787,99066.11767717985,99445.71995358277,101627.37677669147,104246.68066402958,107159.3532357098,106969.79362969028,111458.49073379583,112207.78328719958,111667.66914817106,112031.52988558947,113833.35909414336,115456.04436161777,113441.50600639769,113716.6144830338,113383.58263388298,114986.01123874732,116084.43202870653,116181.54771545241,116013.23636663743,116937.6553060823,117995.72957951814,118057.62828845825,119112.85166264138,114492.0064173383,110192.82919721396,109664.62113230882,107918.99720415175,108789.55218519708,110794.2145981808,111909.79674216581,112488.4175426123,112176.46288378378,116039.37934716075,115861.43097982008,115988.51406227879,116441.4363243122,114872.44039875806,117049.0577890418,118190.73837607996,121683.0893095608,126212.19991180679,130247.83288923312,132842.12831594452,135084.4746102351,132832.26738160182,134214.93665090363,133069.943950668,135619.6639971015,135883.10798295785,133536.34808454386,134096.77776964422,133487.12205321528,138515.157201463,136434.5204929776,136107.71945420204,132357.1665851321,132920.01842491436,131583.08213737063,136810.16084342217,134419.2354682378,141666.79802100302,142938.67428698216,145029.5771291481,148534.8535301076,151959.08738499202,151674.39194232976,149458.05124064634,149224.03639662074,148502.79837697957,148456.25120186858,148486.3383255273,150548.16684636526,153476.93913695414,160826.77388909593,159570.96301507368,165066.07526633478,169355.68646747,167767.65830871646,165316.3687839495,167247.3200996101,171886.80324616807,171148.52415942395,176117.96015198913,174572.87280318394,168683.89261019405,174354.45808382938,173479.49651469546,182553.685984945,185223.58976979225,184775.97734946283,186960.82615398645,188728.03614453418,190092.5803808265,190370.32186324615,195080.53231147202,194527.93414177056,196532.26410115548,195999.56286459582,202132.8638189053,208115.96003331823,215825.41797269482,217213.12863900693,210997.06724595316,217934.89687013993,216835.27998713285,217493.1084406129,211200.18524627868,213964.79352844483,213831.49178399026,213158.34009223594,219266.87668587762,220867.54377412618,224575.6343439411,231531.22079814153,237155.07275146747,249260.69731481714,251752.7369929556,264609.1318313416,273991.231560176,273481.38770870405,271393.5836591907,270516.24961142376,271623.35081712727,261934.01673569338,257163.02021337664,247766.23650602953,248386.15223474707,246963.4707781022,238456.36213948467,240484.84578229874,239606.380676932,238882.41962564277,235749.25412720846,226368.6994709567,229174.75269295496,230573.24167170646,230115.6001970908,216526.56801320935,218878.40189379948,221837.0179988519,222108.5398418376,209532.5118984919,200194.1346494387,210916.24612210263,218033.18256756949,220340.7574042791,229624.78327937936,229656.49519965262,237532.01850227005,233262.97075050217,221371.8182810095,234573.12334045474,239673.4657624295,245579.91627390354,253788.4841084198,244844.89087566282,244731.44140450162,234121.7650635488,236508.48023448585,237688.13009508353,235193.332068787,236148.48640203127,239184.98025622737,244633.70635613933,259523.74507546017,263913.66981275595,265628.76289749483,270802.5900574157,272186.7048222265,262634.79899140075,261667.3543199963,267915.4048877656,270614.96559909935,278010.60498531174,275182.2723072893,266555.3155148692,264047.1463820909,269618.1837006425,278882.15552815545,282318.25230220146,276305.5997113444,263226.9012521461,266403.1340602588,269828.85997499403,273588.790951053,276233.0647795773,281809.30786617385,266101.24984450196,263463.83233676926,272999.27425107214,273697.6098936104,268949.63058329996,254021.32451735242,254088.36636046987,243545.3195500066,248617.0921580954,240553.9422753771,244448.11871529536,241641.9378386695,257191.78214844698,249445.48445627576,242839.0004938072,226095.74260859433,211487.48836243412,221144.33641235222,221153.46207556303,211570.14169123137,212273.4203016095,209819.79576434565,219214.26109285603,213960.7379038898,219763.1738799009,216053.51006860333,221541.05678854647,233262.94317656872,239756.64242891571,238907.80131297032,239860.1207142284,241764.76724279317,249062.26685311427,263784.51465883857,269516.48197201267,280041.74298974173,265389.3202766798,270165.1293315665,270169.5707865395,259249.65342736716,243506.76282350178,245242.6942400532,248177.66169066785,255895.52840963675,265863.5559200502,267671.3851846094,276830.9879813987,275254.1768792868,281251.0732386595,275966.75808048405],\"type\":\"scatter\"}],                        {\"template\":{\"data\":{\"histogram2dcontour\":[{\"type\":\"histogram2dcontour\",\"colorbar\":{\"outlinewidth\":0,\"ticks\":\"\"},\"colorscale\":[[0.0,\"#0d0887\"],[0.1111111111111111,\"#46039f\"],[0.2222222222222222,\"#7201a8\"],[0.3333333333333333,\"#9c179e\"],[0.4444444444444444,\"#bd3786\"],[0.5555555555555556,\"#d8576b\"],[0.6666666666666666,\"#ed7953\"],[0.7777777777777778,\"#fb9f3a\"],[0.8888888888888888,\"#fdca26\"],[1.0,\"#f0f921\"]]}],\"choropleth\":[{\"type\":\"choropleth\",\"colorbar\":{\"outlinewidth\":0,\"ticks\":\"\"}}],\"histogram2d\":[{\"type\":\"histogram2d\",\"colorbar\":{\"outlinewidth\":0,\"ticks\":\"\"},\"colorscale\":[[0.0,\"#0d0887\"],[0.1111111111111111,\"#46039f\"],[0.2222222222222222,\"#7201a8\"],[0.3333333333333333,\"#9c179e\"],[0.4444444444444444,\"#bd3786\"],[0.5555555555555556,\"#d8576b\"],[0.6666666666666666,\"#ed7953\"],[0.7777777777777778,\"#fb9f3a\"],[0.8888888888888888,\"#fdca26\"],[1.0,\"#f0f921\"]]}],\"heatmap\":[{\"type\":\"heatmap\",\"colorbar\":{\"outlinewidth\":0,\"ticks\":\"\"},\"colorscale\":[[0.0,\"#0d0887\"],[0.1111111111111111,\"#46039f\"],[0.2222222222222222,\"#7201a8\"],[0.3333333333333333,\"#9c179e\"],[0.4444444444444444,\"#bd3786\"],[0.5555555555555556,\"#d8576b\"],[0.6666666666666666,\"#ed7953\"],[0.7777777777777778,\"#fb9f3a\"],[0.8888888888888888,\"#fdca26\"],[1.0,\"#f0f921\"]]}],\"heatmapgl\":[{\"type\":\"heatmapgl\",\"colorbar\":{\"outlinewidth\":0,\"ticks\":\"\"},\"colorscale\":[[0.0,\"#0d0887\"],[0.1111111111111111,\"#46039f\"],[0.2222222222222222,\"#7201a8\"],[0.3333333333333333,\"#9c179e\"],[0.4444444444444444,\"#bd3786\"],[0.5555555555555556,\"#d8576b\"],[0.6666666666666666,\"#ed7953\"],[0.7777777777777778,\"#fb9f3a\"],[0.8888888888888888,\"#fdca26\"],[1.0,\"#f0f921\"]]}],\"contourcarpet\":[{\"type\":\"contourcarpet\",\"colorbar\":{\"outlinewidth\":0,\"ticks\":\"\"}}],\"contour\":[{\"type\":\"contour\",\"colorbar\":{\"outlinewidth\":0,\"ticks\":\"\"},\"colorscale\":[[0.0,\"#0d0887\"],[0.1111111111111111,\"#46039f\"],[0.2222222222222222,\"#7201a8\"],[0.3333333333333333,\"#9c179e\"],[0.4444444444444444,\"#bd3786\"],[0.5555555555555556,\"#d8576b\"],[0.6666666666666666,\"#ed7953\"],[0.7777777777777778,\"#fb9f3a\"],[0.8888888888888888,\"#fdca26\"],[1.0,\"#f0f921\"]]}],\"surface\":[{\"type\":\"surface\",\"colorbar\":{\"outlinewidth\":0,\"ticks\":\"\"},\"colorscale\":[[0.0,\"#0d0887\"],[0.1111111111111111,\"#46039f\"],[0.2222222222222222,\"#7201a8\"],[0.3333333333333333,\"#9c179e\"],[0.4444444444444444,\"#bd3786\"],[0.5555555555555556,\"#d8576b\"],[0.6666666666666666,\"#ed7953\"],[0.7777777777777778,\"#fb9f3a\"],[0.8888888888888888,\"#fdca26\"],[1.0,\"#f0f921\"]]}],\"mesh3d\":[{\"type\":\"mesh3d\",\"colorbar\":{\"outlinewidth\":0,\"ticks\":\"\"}}],\"scatter\":[{\"fillpattern\":{\"fillmode\":\"overlay\",\"size\":10,\"solidity\":0.2},\"type\":\"scatter\"}],\"parcoords\":[{\"type\":\"parcoords\",\"line\":{\"colorbar\":{\"outlinewidth\":0,\"ticks\":\"\"}}}],\"scatterpolargl\":[{\"type\":\"scatterpolargl\",\"marker\":{\"colorbar\":{\"outlinewidth\":0,\"ticks\":\"\"}}}],\"bar\":[{\"error_x\":{\"color\":\"#2a3f5f\"},\"error_y\":{\"color\":\"#2a3f5f\"},\"marker\":{\"line\":{\"color\":\"#E5ECF6\",\"width\":0.5},\"pattern\":{\"fillmode\":\"overlay\",\"size\":10,\"solidity\":0.2}},\"type\":\"bar\"}],\"scattergeo\":[{\"type\":\"scattergeo\",\"marker\":{\"colorbar\":{\"outlinewidth\":0,\"ticks\":\"\"}}}],\"scatterpolar\":[{\"type\":\"scatterpolar\",\"marker\":{\"colorbar\":{\"outlinewidth\":0,\"ticks\":\"\"}}}],\"histogram\":[{\"marker\":{\"pattern\":{\"fillmode\":\"overlay\",\"size\":10,\"solidity\":0.2}},\"type\":\"histogram\"}],\"scattergl\":[{\"type\":\"scattergl\",\"marker\":{\"colorbar\":{\"outlinewidth\":0,\"ticks\":\"\"}}}],\"scatter3d\":[{\"type\":\"scatter3d\",\"line\":{\"colorbar\":{\"outlinewidth\":0,\"ticks\":\"\"}},\"marker\":{\"colorbar\":{\"outlinewidth\":0,\"ticks\":\"\"}}}],\"scattermapbox\":[{\"type\":\"scattermapbox\",\"marker\":{\"colorbar\":{\"outlinewidth\":0,\"ticks\":\"\"}}}],\"scatterternary\":[{\"type\":\"scatterternary\",\"marker\":{\"colorbar\":{\"outlinewidth\":0,\"ticks\":\"\"}}}],\"scattercarpet\":[{\"type\":\"scattercarpet\",\"marker\":{\"colorbar\":{\"outlinewidth\":0,\"ticks\":\"\"}}}],\"carpet\":[{\"aaxis\":{\"endlinecolor\":\"#2a3f5f\",\"gridcolor\":\"white\",\"linecolor\":\"white\",\"minorgridcolor\":\"white\",\"startlinecolor\":\"#2a3f5f\"},\"baxis\":{\"endlinecolor\":\"#2a3f5f\",\"gridcolor\":\"white\",\"linecolor\":\"white\",\"minorgridcolor\":\"white\",\"startlinecolor\":\"#2a3f5f\"},\"type\":\"carpet\"}],\"table\":[{\"cells\":{\"fill\":{\"color\":\"#EBF0F8\"},\"line\":{\"color\":\"white\"}},\"header\":{\"fill\":{\"color\":\"#C8D4E3\"},\"line\":{\"color\":\"white\"}},\"type\":\"table\"}],\"barpolar\":[{\"marker\":{\"line\":{\"color\":\"#E5ECF6\",\"width\":0.5},\"pattern\":{\"fillmode\":\"overlay\",\"size\":10,\"solidity\":0.2}},\"type\":\"barpolar\"}],\"pie\":[{\"automargin\":true,\"type\":\"pie\"}]},\"layout\":{\"autotypenumbers\":\"strict\",\"colorway\":[\"#636efa\",\"#EF553B\",\"#00cc96\",\"#ab63fa\",\"#FFA15A\",\"#19d3f3\",\"#FF6692\",\"#B6E880\",\"#FF97FF\",\"#FECB52\"],\"font\":{\"color\":\"#2a3f5f\"},\"hovermode\":\"closest\",\"hoverlabel\":{\"align\":\"left\"},\"paper_bgcolor\":\"white\",\"plot_bgcolor\":\"#E5ECF6\",\"polar\":{\"bgcolor\":\"#E5ECF6\",\"angularaxis\":{\"gridcolor\":\"white\",\"linecolor\":\"white\",\"ticks\":\"\"},\"radialaxis\":{\"gridcolor\":\"white\",\"linecolor\":\"white\",\"ticks\":\"\"}},\"ternary\":{\"bgcolor\":\"#E5ECF6\",\"aaxis\":{\"gridcolor\":\"white\",\"linecolor\":\"white\",\"ticks\":\"\"},\"baxis\":{\"gridcolor\":\"white\",\"linecolor\":\"white\",\"ticks\":\"\"},\"caxis\":{\"gridcolor\":\"white\",\"linecolor\":\"white\",\"ticks\":\"\"}},\"coloraxis\":{\"colorbar\":{\"outlinewidth\":0,\"ticks\":\"\"}},\"colorscale\":{\"sequential\":[[0.0,\"#0d0887\"],[0.1111111111111111,\"#46039f\"],[0.2222222222222222,\"#7201a8\"],[0.3333333333333333,\"#9c179e\"],[0.4444444444444444,\"#bd3786\"],[0.5555555555555556,\"#d8576b\"],[0.6666666666666666,\"#ed7953\"],[0.7777777777777778,\"#fb9f3a\"],[0.8888888888888888,\"#fdca26\"],[1.0,\"#f0f921\"]],\"sequentialminus\":[[0.0,\"#0d0887\"],[0.1111111111111111,\"#46039f\"],[0.2222222222222222,\"#7201a8\"],[0.3333333333333333,\"#9c179e\"],[0.4444444444444444,\"#bd3786\"],[0.5555555555555556,\"#d8576b\"],[0.6666666666666666,\"#ed7953\"],[0.7777777777777778,\"#fb9f3a\"],[0.8888888888888888,\"#fdca26\"],[1.0,\"#f0f921\"]],\"diverging\":[[0,\"#8e0152\"],[0.1,\"#c51b7d\"],[0.2,\"#de77ae\"],[0.3,\"#f1b6da\"],[0.4,\"#fde0ef\"],[0.5,\"#f7f7f7\"],[0.6,\"#e6f5d0\"],[0.7,\"#b8e186\"],[0.8,\"#7fbc41\"],[0.9,\"#4d9221\"],[1,\"#276419\"]]},\"xaxis\":{\"gridcolor\":\"white\",\"linecolor\":\"white\",\"ticks\":\"\",\"title\":{\"standoff\":15},\"zerolinecolor\":\"white\",\"automargin\":true,\"zerolinewidth\":2},\"yaxis\":{\"gridcolor\":\"white\",\"linecolor\":\"white\",\"ticks\":\"\",\"title\":{\"standoff\":15},\"zerolinecolor\":\"white\",\"automargin\":true,\"zerolinewidth\":2},\"scene\":{\"xaxis\":{\"backgroundcolor\":\"#E5ECF6\",\"gridcolor\":\"white\",\"linecolor\":\"white\",\"showbackground\":true,\"ticks\":\"\",\"zerolinecolor\":\"white\",\"gridwidth\":2},\"yaxis\":{\"backgroundcolor\":\"#E5ECF6\",\"gridcolor\":\"white\",\"linecolor\":\"white\",\"showbackground\":true,\"ticks\":\"\",\"zerolinecolor\":\"white\",\"gridwidth\":2},\"zaxis\":{\"backgroundcolor\":\"#E5ECF6\",\"gridcolor\":\"white\",\"linecolor\":\"white\",\"showbackground\":true,\"ticks\":\"\",\"zerolinecolor\":\"white\",\"gridwidth\":2}},\"shapedefaults\":{\"line\":{\"color\":\"#2a3f5f\"}},\"annotationdefaults\":{\"arrowcolor\":\"#2a3f5f\",\"arrowhead\":0,\"arrowwidth\":1},\"geo\":{\"bgcolor\":\"white\",\"landcolor\":\"#E5ECF6\",\"subunitcolor\":\"white\",\"showland\":true,\"showlakes\":true,\"lakecolor\":\"white\"},\"title\":{\"x\":0.05},\"mapbox\":{\"style\":\"light\"}}}},                        {\"responsive\": true}                    ).then(function(){\n",
              "                            \n",
              "var gd = document.getElementById('291e667a-c769-43e7-b671-303da24f6e90');\n",
              "var x = new MutationObserver(function (mutations, observer) {{\n",
              "        var display = window.getComputedStyle(gd).display;\n",
              "        if (!display || display === 'none') {{\n",
              "            console.log([gd, 'removed!']);\n",
              "            Plotly.purge(gd);\n",
              "            observer.disconnect();\n",
              "        }}\n",
              "}});\n",
              "\n",
              "// Listen for the removal of the full notebook cells\n",
              "var notebookContainer = gd.closest('#notebook-container');\n",
              "if (notebookContainer) {{\n",
              "    x.observe(notebookContainer, {childList: true});\n",
              "}}\n",
              "\n",
              "// Listen for the clearing of the current output cell\n",
              "var outputEl = gd.closest('.output');\n",
              "if (outputEl) {{\n",
              "    x.observe(outputEl, {childList: true});\n",
              "}}\n",
              "\n",
              "                        })                };                            </script>        </div>\n",
              "</body>\n",
              "</html>"
            ]
          },
          "metadata": {}
        }
      ]
    },
    {
      "cell_type": "markdown",
      "source": [
        "<font color='crimson'>Put your comment here:</font><font color='crimson'>As can be seen in the graph, the dynamic strategy (where we trade every day to keep our weights constant), quickly overtakes the static one in performance, and ends the year with a nearly 40k positive difference in portfolio return.</font>"
      ],
      "metadata": {
        "id": "8VY5oGPMsjNJ"
      }
    }
  ]
}